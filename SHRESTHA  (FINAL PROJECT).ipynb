{
 "cells": [
  {
   "cell_type": "markdown",
   "metadata": {},
   "source": [
    "# SHRESTHA MADAN \n",
    "# MAC 270 FINAL PROJECT"
   ]
  },
  {
   "cell_type": "markdown",
   "metadata": {},
   "source": [
    "\n",
    "Dataset for blackfriday : \n",
    "I want to explor the purchasing power during a Black Friday shopping spree. We are going to use features such as age, city, occupation, gender, and category of items purchased.\n",
    "we will explore the correlation between different features.\n",
    "\n",
    "\n",
    "GOAL: to estimate the amount a buyer is spending during that one day of the year which black friday.\n",
    "GOAL: to explore statistical information, clean up the dataset, and attempt to choose best regression model to test it against ones.\n",
    "\n",
    "\n",
    "USES:  a retail stores that wishes to understand the demographics or items they ought to invest in for future events.\n"
   ]
  },
  {
   "cell_type": "code",
   "execution_count": 1,
   "metadata": {},
   "outputs": [],
   "source": [
    "# for numerical computing\n",
    "import numpy as np\n",
    "\n",
    "# for dataframes\n",
    "import pandas as pd\n",
    "\n",
    "# for easier visualization\n",
    "import seaborn as sns\n",
    "\n",
    "# for visualization and to display plots\n",
    "from matplotlib import pyplot as plt\n",
    "%matplotlib inline\n",
    "\n",
    "# import color maps\n",
    "from matplotlib.colors import ListedColormap\n",
    "\n",
    "# Ignore Warnings\n",
    "import warnings\n",
    "warnings.filterwarnings(\"ignore\")\n",
    "\n",
    "from math import sqrt\n",
    "\n",
    "# to split train and test set\n",
    "from sklearn.model_selection import train_test_split\n",
    "\n",
    "# to perform hyperparameter tuning\n",
    "from sklearn.model_selection import GridSearchCV\n",
    "from sklearn.model_selection import RandomizedSearchCV\n",
    "\n",
    "from sklearn.linear_model import Ridge  # Linear Regression + L2 regularization\n",
    "from sklearn.linear_model import Lasso  # Linear Regression + L1 regularization\n",
    "from sklearn.svm import SVR # Support Vector Regressor\n",
    "from sklearn.ensemble import RandomForestRegressor\n",
    "from sklearn.neighbors import KNeighborsRegressor \n",
    "from sklearn.model_selection import train_test_split\n",
    "from sklearn.tree import DecisionTreeRegressor\n",
    "\n",
    "# Evaluation Metrics\n",
    "from sklearn.metrics import mean_squared_error as mse\n",
    "from sklearn.metrics import r2_score as rs\n",
    "from sklearn.metrics import mean_absolute_error as mae\n",
    "\n",
    "#import xgboost\n",
    "import os\n",
    "mingw_path = 'C:\\\\Program Files\\\\mingw-w64\\\\x86_64-7.2.0-posix-seh-rt_v5-rev0\\\\mingw64\\\\bin'\n",
    "os.environ['PATH'] = mingw_path + ';' + os.environ['PATH']\n",
    "\n",
    "# to save the final model on disk\n",
    "from sklearn.externals import joblib\n"
   ]
  },
  {
   "cell_type": "code",
   "execution_count": 2,
   "metadata": {},
   "outputs": [],
   "source": [
    "np.set_printoptions(precision=2, suppress=True) #for printing floating point numbers upto  precision 2"
   ]
  },
  {
   "cell_type": "code",
   "execution_count": 3,
   "metadata": {},
   "outputs": [],
   "source": [
    "df= pd.read_csv('BlackFriday.csv')"
   ]
  },
  {
   "cell_type": "code",
   "execution_count": 4,
   "metadata": {},
   "outputs": [
    {
     "data": {
      "text/plain": [
       "(537577, 12)"
      ]
     },
     "execution_count": 4,
     "metadata": {},
     "output_type": "execute_result"
    }
   ],
   "source": [
    "df.shape"
   ]
  },
  {
   "cell_type": "code",
   "execution_count": 5,
   "metadata": {},
   "outputs": [],
   "source": [
    "# This dataset \n",
    "#Contains 537,577 entries (or rows)\n",
    "# 12 total columns, 9 of which will be considered as features"
   ]
  },
  {
   "cell_type": "markdown",
   "metadata": {},
   "source": [
    "# Columns of the dataset"
   ]
  },
  {
   "cell_type": "code",
   "execution_count": 6,
   "metadata": {},
   "outputs": [
    {
     "data": {
      "text/plain": [
       "Index(['User_ID', 'Product_ID', 'Gender', 'Age', 'Occupation', 'City_Category',\n",
       "       'Stay_In_Current_City_Years', 'Marital_Status', 'Product_Category_1',\n",
       "       'Product_Category_2', 'Product_Category_3', 'Purchase'],\n",
       "      dtype='object')"
      ]
     },
     "execution_count": 6,
     "metadata": {},
     "output_type": "execute_result"
    }
   ],
   "source": [
    "df.columns # Displaying columns of dataset"
   ]
  },
  {
   "cell_type": "code",
   "execution_count": 7,
   "metadata": {},
   "outputs": [
    {
     "name": "stdout",
     "output_type": "stream",
     "text": [
      "<class 'pandas.core.frame.DataFrame'>\n",
      "RangeIndex: 537577 entries, 0 to 537576\n",
      "Data columns (total 12 columns):\n",
      "User_ID                       537577 non-null int64\n",
      "Product_ID                    537577 non-null object\n",
      "Gender                        537577 non-null object\n",
      "Age                           537577 non-null object\n",
      "Occupation                    537577 non-null int64\n",
      "City_Category                 537577 non-null object\n",
      "Stay_In_Current_City_Years    537577 non-null object\n",
      "Marital_Status                537577 non-null int64\n",
      "Product_Category_1            537577 non-null int64\n",
      "Product_Category_2            370591 non-null float64\n",
      "Product_Category_3            164278 non-null float64\n",
      "Purchase                      537577 non-null int64\n",
      "dtypes: float64(2), int64(5), object(5)\n",
      "memory usage: 49.2+ MB\n"
     ]
    }
   ],
   "source": [
    "df.info()"
   ]
  },
  {
   "cell_type": "code",
   "execution_count": 8,
   "metadata": {},
   "outputs": [
    {
     "data": {
      "text/html": [
       "<div>\n",
       "<style scoped>\n",
       "    .dataframe tbody tr th:only-of-type {\n",
       "        vertical-align: middle;\n",
       "    }\n",
       "\n",
       "    .dataframe tbody tr th {\n",
       "        vertical-align: top;\n",
       "    }\n",
       "\n",
       "    .dataframe thead th {\n",
       "        text-align: right;\n",
       "    }\n",
       "</style>\n",
       "<table border=\"1\" class=\"dataframe\">\n",
       "  <thead>\n",
       "    <tr style=\"text-align: right;\">\n",
       "      <th></th>\n",
       "      <th>User_ID</th>\n",
       "      <th>Occupation</th>\n",
       "      <th>Marital_Status</th>\n",
       "      <th>Product_Category_1</th>\n",
       "      <th>Product_Category_2</th>\n",
       "      <th>Product_Category_3</th>\n",
       "      <th>Purchase</th>\n",
       "    </tr>\n",
       "  </thead>\n",
       "  <tbody>\n",
       "    <tr>\n",
       "      <th>count</th>\n",
       "      <td>5.375770e+05</td>\n",
       "      <td>537577.00000</td>\n",
       "      <td>537577.000000</td>\n",
       "      <td>537577.000000</td>\n",
       "      <td>370591.000000</td>\n",
       "      <td>164278.000000</td>\n",
       "      <td>537577.000000</td>\n",
       "    </tr>\n",
       "    <tr>\n",
       "      <th>mean</th>\n",
       "      <td>1.002992e+06</td>\n",
       "      <td>8.08271</td>\n",
       "      <td>0.408797</td>\n",
       "      <td>5.295546</td>\n",
       "      <td>9.842144</td>\n",
       "      <td>12.669840</td>\n",
       "      <td>9333.859853</td>\n",
       "    </tr>\n",
       "    <tr>\n",
       "      <th>std</th>\n",
       "      <td>1.714393e+03</td>\n",
       "      <td>6.52412</td>\n",
       "      <td>0.491612</td>\n",
       "      <td>3.750701</td>\n",
       "      <td>5.087259</td>\n",
       "      <td>4.124341</td>\n",
       "      <td>4981.022133</td>\n",
       "    </tr>\n",
       "    <tr>\n",
       "      <th>min</th>\n",
       "      <td>1.000001e+06</td>\n",
       "      <td>0.00000</td>\n",
       "      <td>0.000000</td>\n",
       "      <td>1.000000</td>\n",
       "      <td>2.000000</td>\n",
       "      <td>3.000000</td>\n",
       "      <td>185.000000</td>\n",
       "    </tr>\n",
       "    <tr>\n",
       "      <th>25%</th>\n",
       "      <td>1.001495e+06</td>\n",
       "      <td>2.00000</td>\n",
       "      <td>0.000000</td>\n",
       "      <td>1.000000</td>\n",
       "      <td>5.000000</td>\n",
       "      <td>9.000000</td>\n",
       "      <td>5866.000000</td>\n",
       "    </tr>\n",
       "    <tr>\n",
       "      <th>50%</th>\n",
       "      <td>1.003031e+06</td>\n",
       "      <td>7.00000</td>\n",
       "      <td>0.000000</td>\n",
       "      <td>5.000000</td>\n",
       "      <td>9.000000</td>\n",
       "      <td>14.000000</td>\n",
       "      <td>8062.000000</td>\n",
       "    </tr>\n",
       "    <tr>\n",
       "      <th>75%</th>\n",
       "      <td>1.004417e+06</td>\n",
       "      <td>14.00000</td>\n",
       "      <td>1.000000</td>\n",
       "      <td>8.000000</td>\n",
       "      <td>15.000000</td>\n",
       "      <td>16.000000</td>\n",
       "      <td>12073.000000</td>\n",
       "    </tr>\n",
       "    <tr>\n",
       "      <th>max</th>\n",
       "      <td>1.006040e+06</td>\n",
       "      <td>20.00000</td>\n",
       "      <td>1.000000</td>\n",
       "      <td>18.000000</td>\n",
       "      <td>18.000000</td>\n",
       "      <td>18.000000</td>\n",
       "      <td>23961.000000</td>\n",
       "    </tr>\n",
       "  </tbody>\n",
       "</table>\n",
       "</div>"
      ],
      "text/plain": [
       "            User_ID    Occupation  Marital_Status  Product_Category_1  \\\n",
       "count  5.375770e+05  537577.00000   537577.000000       537577.000000   \n",
       "mean   1.002992e+06       8.08271        0.408797            5.295546   \n",
       "std    1.714393e+03       6.52412        0.491612            3.750701   \n",
       "min    1.000001e+06       0.00000        0.000000            1.000000   \n",
       "25%    1.001495e+06       2.00000        0.000000            1.000000   \n",
       "50%    1.003031e+06       7.00000        0.000000            5.000000   \n",
       "75%    1.004417e+06      14.00000        1.000000            8.000000   \n",
       "max    1.006040e+06      20.00000        1.000000           18.000000   \n",
       "\n",
       "       Product_Category_2  Product_Category_3       Purchase  \n",
       "count       370591.000000       164278.000000  537577.000000  \n",
       "mean             9.842144           12.669840    9333.859853  \n",
       "std              5.087259            4.124341    4981.022133  \n",
       "min              2.000000            3.000000     185.000000  \n",
       "25%              5.000000            9.000000    5866.000000  \n",
       "50%              9.000000           14.000000    8062.000000  \n",
       "75%             15.000000           16.000000   12073.000000  \n",
       "max             18.000000           18.000000   23961.000000  "
      ]
     },
     "execution_count": 8,
     "metadata": {},
     "output_type": "execute_result"
    }
   ],
   "source": [
    "df.describe()"
   ]
  },
  {
   "cell_type": "code",
   "execution_count": 9,
   "metadata": {},
   "outputs": [
    {
     "data": {
      "text/html": [
       "<div>\n",
       "<style scoped>\n",
       "    .dataframe tbody tr th:only-of-type {\n",
       "        vertical-align: middle;\n",
       "    }\n",
       "\n",
       "    .dataframe tbody tr th {\n",
       "        vertical-align: top;\n",
       "    }\n",
       "\n",
       "    .dataframe thead th {\n",
       "        text-align: right;\n",
       "    }\n",
       "</style>\n",
       "<table border=\"1\" class=\"dataframe\">\n",
       "  <thead>\n",
       "    <tr style=\"text-align: right;\">\n",
       "      <th></th>\n",
       "      <th>User_ID</th>\n",
       "      <th>Product_ID</th>\n",
       "      <th>Gender</th>\n",
       "      <th>Age</th>\n",
       "      <th>Occupation</th>\n",
       "      <th>City_Category</th>\n",
       "      <th>Stay_In_Current_City_Years</th>\n",
       "      <th>Marital_Status</th>\n",
       "      <th>Product_Category_1</th>\n",
       "      <th>Product_Category_2</th>\n",
       "      <th>Product_Category_3</th>\n",
       "      <th>Purchase</th>\n",
       "    </tr>\n",
       "  </thead>\n",
       "  <tbody>\n",
       "    <tr>\n",
       "      <th>0</th>\n",
       "      <td>1000001</td>\n",
       "      <td>P00069042</td>\n",
       "      <td>F</td>\n",
       "      <td>0-17</td>\n",
       "      <td>10</td>\n",
       "      <td>A</td>\n",
       "      <td>2</td>\n",
       "      <td>0</td>\n",
       "      <td>3</td>\n",
       "      <td>NaN</td>\n",
       "      <td>NaN</td>\n",
       "      <td>8370</td>\n",
       "    </tr>\n",
       "    <tr>\n",
       "      <th>1</th>\n",
       "      <td>1000001</td>\n",
       "      <td>P00248942</td>\n",
       "      <td>F</td>\n",
       "      <td>0-17</td>\n",
       "      <td>10</td>\n",
       "      <td>A</td>\n",
       "      <td>2</td>\n",
       "      <td>0</td>\n",
       "      <td>1</td>\n",
       "      <td>6.0</td>\n",
       "      <td>14.0</td>\n",
       "      <td>15200</td>\n",
       "    </tr>\n",
       "    <tr>\n",
       "      <th>2</th>\n",
       "      <td>1000001</td>\n",
       "      <td>P00087842</td>\n",
       "      <td>F</td>\n",
       "      <td>0-17</td>\n",
       "      <td>10</td>\n",
       "      <td>A</td>\n",
       "      <td>2</td>\n",
       "      <td>0</td>\n",
       "      <td>12</td>\n",
       "      <td>NaN</td>\n",
       "      <td>NaN</td>\n",
       "      <td>1422</td>\n",
       "    </tr>\n",
       "    <tr>\n",
       "      <th>3</th>\n",
       "      <td>1000001</td>\n",
       "      <td>P00085442</td>\n",
       "      <td>F</td>\n",
       "      <td>0-17</td>\n",
       "      <td>10</td>\n",
       "      <td>A</td>\n",
       "      <td>2</td>\n",
       "      <td>0</td>\n",
       "      <td>12</td>\n",
       "      <td>14.0</td>\n",
       "      <td>NaN</td>\n",
       "      <td>1057</td>\n",
       "    </tr>\n",
       "    <tr>\n",
       "      <th>4</th>\n",
       "      <td>1000002</td>\n",
       "      <td>P00285442</td>\n",
       "      <td>M</td>\n",
       "      <td>55+</td>\n",
       "      <td>16</td>\n",
       "      <td>C</td>\n",
       "      <td>4+</td>\n",
       "      <td>0</td>\n",
       "      <td>8</td>\n",
       "      <td>NaN</td>\n",
       "      <td>NaN</td>\n",
       "      <td>7969</td>\n",
       "    </tr>\n",
       "  </tbody>\n",
       "</table>\n",
       "</div>"
      ],
      "text/plain": [
       "   User_ID Product_ID Gender   Age  Occupation City_Category  \\\n",
       "0  1000001  P00069042      F  0-17          10             A   \n",
       "1  1000001  P00248942      F  0-17          10             A   \n",
       "2  1000001  P00087842      F  0-17          10             A   \n",
       "3  1000001  P00085442      F  0-17          10             A   \n",
       "4  1000002  P00285442      M   55+          16             C   \n",
       "\n",
       "  Stay_In_Current_City_Years  Marital_Status  Product_Category_1  \\\n",
       "0                          2               0                   3   \n",
       "1                          2               0                   1   \n",
       "2                          2               0                  12   \n",
       "3                          2               0                  12   \n",
       "4                         4+               0                   8   \n",
       "\n",
       "   Product_Category_2  Product_Category_3  Purchase  \n",
       "0                 NaN                 NaN      8370  \n",
       "1                 6.0                14.0     15200  \n",
       "2                 NaN                 NaN      1422  \n",
       "3                14.0                 NaN      1057  \n",
       "4                 NaN                 NaN      7969  "
      ]
     },
     "execution_count": 9,
     "metadata": {},
     "output_type": "execute_result"
    }
   ],
   "source": [
    "df.head() # shows first 5 rows"
   ]
  },
  {
   "cell_type": "markdown",
   "metadata": {},
   "source": [
    "# BAR PLOTS"
   ]
  },
  {
   "cell_type": "code",
   "execution_count": 10,
   "metadata": {},
   "outputs": [
    {
     "ename": "FileNotFoundError",
     "evalue": "[Errno 2] No such file or directory: './PLOT/all_feature.png'",
     "output_type": "error",
     "traceback": [
      "\u001b[0;31m---------------------------------------------------------------------------\u001b[0m",
      "\u001b[0;31mFileNotFoundError\u001b[0m                         Traceback (most recent call last)",
      "\u001b[0;32m<ipython-input-10-2f1f8f92de61>\u001b[0m in \u001b[0;36m<module>\u001b[0;34m\u001b[0m\n\u001b[1;32m      7\u001b[0m \u001b[0mdf\u001b[0m\u001b[0;34m[\u001b[0m\u001b[0;34m'Occupation'\u001b[0m\u001b[0;34m]\u001b[0m\u001b[0;34m.\u001b[0m\u001b[0mvalue_counts\u001b[0m\u001b[0;34m(\u001b[0m\u001b[0;34m)\u001b[0m\u001b[0;34m.\u001b[0m\u001b[0mplot\u001b[0m\u001b[0;34m(\u001b[0m\u001b[0mkind\u001b[0m\u001b[0;34m=\u001b[0m\u001b[0;34m'barh'\u001b[0m\u001b[0;34m,\u001b[0m \u001b[0max\u001b[0m\u001b[0;34m=\u001b[0m\u001b[0maxes\u001b[0m\u001b[0;34m[\u001b[0m\u001b[0;36m2\u001b[0m\u001b[0;34m,\u001b[0m\u001b[0;36m0\u001b[0m\u001b[0;34m]\u001b[0m\u001b[0;34m,\u001b[0m \u001b[0mtitle\u001b[0m\u001b[0;34m=\u001b[0m\u001b[0;34m'Occupation'\u001b[0m\u001b[0;34m)\u001b[0m\u001b[0;34m\u001b[0m\u001b[0;34m\u001b[0m\u001b[0m\n\u001b[1;32m      8\u001b[0m \u001b[0mdf\u001b[0m\u001b[0;34m[\u001b[0m\u001b[0;34m'Stay_In_Current_City_Years'\u001b[0m\u001b[0;34m]\u001b[0m\u001b[0;34m.\u001b[0m\u001b[0mvalue_counts\u001b[0m\u001b[0;34m(\u001b[0m\u001b[0;34m)\u001b[0m\u001b[0;34m.\u001b[0m\u001b[0mplot\u001b[0m\u001b[0;34m(\u001b[0m\u001b[0mkind\u001b[0m\u001b[0;34m=\u001b[0m\u001b[0;34m'barh'\u001b[0m\u001b[0;34m,\u001b[0m \u001b[0max\u001b[0m\u001b[0;34m=\u001b[0m\u001b[0maxes\u001b[0m\u001b[0;34m[\u001b[0m\u001b[0;36m2\u001b[0m\u001b[0;34m,\u001b[0m\u001b[0;36m1\u001b[0m\u001b[0;34m]\u001b[0m\u001b[0;34m,\u001b[0m \u001b[0mtitle\u001b[0m\u001b[0;34m=\u001b[0m\u001b[0;34m'Stay_In_Current_City_Years'\u001b[0m\u001b[0;34m)\u001b[0m\u001b[0;34m\u001b[0m\u001b[0;34m\u001b[0m\u001b[0m\n\u001b[0;32m----> 9\u001b[0;31m \u001b[0mplt\u001b[0m\u001b[0;34m.\u001b[0m\u001b[0msavefig\u001b[0m\u001b[0;34m(\u001b[0m\u001b[0;34m\"./PLOT/all_feature.png\"\u001b[0m\u001b[0;34m)\u001b[0m\u001b[0;34m\u001b[0m\u001b[0;34m\u001b[0m\u001b[0m\n\u001b[0m\u001b[1;32m     10\u001b[0m \u001b[0mplt\u001b[0m\u001b[0;34m.\u001b[0m\u001b[0mshow\u001b[0m\u001b[0;34m(\u001b[0m\u001b[0;34m)\u001b[0m\u001b[0;34m\u001b[0m\u001b[0;34m\u001b[0m\u001b[0m\n",
      "\u001b[0;32m/anaconda3/lib/python3.7/site-packages/matplotlib/pyplot.py\u001b[0m in \u001b[0;36msavefig\u001b[0;34m(*args, **kwargs)\u001b[0m\n\u001b[1;32m    687\u001b[0m \u001b[0;32mdef\u001b[0m \u001b[0msavefig\u001b[0m\u001b[0;34m(\u001b[0m\u001b[0;34m*\u001b[0m\u001b[0margs\u001b[0m\u001b[0;34m,\u001b[0m \u001b[0;34m**\u001b[0m\u001b[0mkwargs\u001b[0m\u001b[0;34m)\u001b[0m\u001b[0;34m:\u001b[0m\u001b[0;34m\u001b[0m\u001b[0;34m\u001b[0m\u001b[0m\n\u001b[1;32m    688\u001b[0m     \u001b[0mfig\u001b[0m \u001b[0;34m=\u001b[0m \u001b[0mgcf\u001b[0m\u001b[0;34m(\u001b[0m\u001b[0;34m)\u001b[0m\u001b[0;34m\u001b[0m\u001b[0;34m\u001b[0m\u001b[0m\n\u001b[0;32m--> 689\u001b[0;31m     \u001b[0mres\u001b[0m \u001b[0;34m=\u001b[0m \u001b[0mfig\u001b[0m\u001b[0;34m.\u001b[0m\u001b[0msavefig\u001b[0m\u001b[0;34m(\u001b[0m\u001b[0;34m*\u001b[0m\u001b[0margs\u001b[0m\u001b[0;34m,\u001b[0m \u001b[0;34m**\u001b[0m\u001b[0mkwargs\u001b[0m\u001b[0;34m)\u001b[0m\u001b[0;34m\u001b[0m\u001b[0;34m\u001b[0m\u001b[0m\n\u001b[0m\u001b[1;32m    690\u001b[0m     \u001b[0mfig\u001b[0m\u001b[0;34m.\u001b[0m\u001b[0mcanvas\u001b[0m\u001b[0;34m.\u001b[0m\u001b[0mdraw_idle\u001b[0m\u001b[0;34m(\u001b[0m\u001b[0;34m)\u001b[0m   \u001b[0;31m# need this if 'transparent=True' to reset colors\u001b[0m\u001b[0;34m\u001b[0m\u001b[0;34m\u001b[0m\u001b[0m\n\u001b[1;32m    691\u001b[0m     \u001b[0;32mreturn\u001b[0m \u001b[0mres\u001b[0m\u001b[0;34m\u001b[0m\u001b[0;34m\u001b[0m\u001b[0m\n",
      "\u001b[0;32m/anaconda3/lib/python3.7/site-packages/matplotlib/figure.py\u001b[0m in \u001b[0;36msavefig\u001b[0;34m(self, fname, frameon, transparent, **kwargs)\u001b[0m\n\u001b[1;32m   2092\u001b[0m             \u001b[0mself\u001b[0m\u001b[0;34m.\u001b[0m\u001b[0mset_frameon\u001b[0m\u001b[0;34m(\u001b[0m\u001b[0mframeon\u001b[0m\u001b[0;34m)\u001b[0m\u001b[0;34m\u001b[0m\u001b[0;34m\u001b[0m\u001b[0m\n\u001b[1;32m   2093\u001b[0m \u001b[0;34m\u001b[0m\u001b[0m\n\u001b[0;32m-> 2094\u001b[0;31m         \u001b[0mself\u001b[0m\u001b[0;34m.\u001b[0m\u001b[0mcanvas\u001b[0m\u001b[0;34m.\u001b[0m\u001b[0mprint_figure\u001b[0m\u001b[0;34m(\u001b[0m\u001b[0mfname\u001b[0m\u001b[0;34m,\u001b[0m \u001b[0;34m**\u001b[0m\u001b[0mkwargs\u001b[0m\u001b[0;34m)\u001b[0m\u001b[0;34m\u001b[0m\u001b[0;34m\u001b[0m\u001b[0m\n\u001b[0m\u001b[1;32m   2095\u001b[0m \u001b[0;34m\u001b[0m\u001b[0m\n\u001b[1;32m   2096\u001b[0m         \u001b[0;32mif\u001b[0m \u001b[0mframeon\u001b[0m\u001b[0;34m:\u001b[0m\u001b[0;34m\u001b[0m\u001b[0;34m\u001b[0m\u001b[0m\n",
      "\u001b[0;32m/anaconda3/lib/python3.7/site-packages/matplotlib/backend_bases.py\u001b[0m in \u001b[0;36mprint_figure\u001b[0;34m(self, filename, dpi, facecolor, edgecolor, orientation, format, bbox_inches, **kwargs)\u001b[0m\n\u001b[1;32m   2073\u001b[0m                     \u001b[0morientation\u001b[0m\u001b[0;34m=\u001b[0m\u001b[0morientation\u001b[0m\u001b[0;34m,\u001b[0m\u001b[0;34m\u001b[0m\u001b[0;34m\u001b[0m\u001b[0m\n\u001b[1;32m   2074\u001b[0m                     \u001b[0mbbox_inches_restore\u001b[0m\u001b[0;34m=\u001b[0m\u001b[0m_bbox_inches_restore\u001b[0m\u001b[0;34m,\u001b[0m\u001b[0;34m\u001b[0m\u001b[0;34m\u001b[0m\u001b[0m\n\u001b[0;32m-> 2075\u001b[0;31m                     **kwargs)\n\u001b[0m\u001b[1;32m   2076\u001b[0m             \u001b[0;32mfinally\u001b[0m\u001b[0;34m:\u001b[0m\u001b[0;34m\u001b[0m\u001b[0;34m\u001b[0m\u001b[0m\n\u001b[1;32m   2077\u001b[0m                 \u001b[0;32mif\u001b[0m \u001b[0mbbox_inches\u001b[0m \u001b[0;32mand\u001b[0m \u001b[0mrestore_bbox\u001b[0m\u001b[0;34m:\u001b[0m\u001b[0;34m\u001b[0m\u001b[0;34m\u001b[0m\u001b[0m\n",
      "\u001b[0;32m/anaconda3/lib/python3.7/site-packages/matplotlib/backends/backend_agg.py\u001b[0m in \u001b[0;36mprint_png\u001b[0;34m(self, filename_or_obj, *args, **kwargs)\u001b[0m\n\u001b[1;32m    519\u001b[0m \u001b[0;34m\u001b[0m\u001b[0m\n\u001b[1;32m    520\u001b[0m         \u001b[0;32mwith\u001b[0m \u001b[0mcbook\u001b[0m\u001b[0;34m.\u001b[0m\u001b[0m_setattr_cm\u001b[0m\u001b[0;34m(\u001b[0m\u001b[0mrenderer\u001b[0m\u001b[0;34m,\u001b[0m \u001b[0mdpi\u001b[0m\u001b[0;34m=\u001b[0m\u001b[0mself\u001b[0m\u001b[0;34m.\u001b[0m\u001b[0mfigure\u001b[0m\u001b[0;34m.\u001b[0m\u001b[0mdpi\u001b[0m\u001b[0;34m)\u001b[0m\u001b[0;34m,\u001b[0m\u001b[0;31m \u001b[0m\u001b[0;31m\\\u001b[0m\u001b[0;34m\u001b[0m\u001b[0;34m\u001b[0m\u001b[0m\n\u001b[0;32m--> 521\u001b[0;31m                 \u001b[0mcbook\u001b[0m\u001b[0;34m.\u001b[0m\u001b[0mopen_file_cm\u001b[0m\u001b[0;34m(\u001b[0m\u001b[0mfilename_or_obj\u001b[0m\u001b[0;34m,\u001b[0m \u001b[0;34m\"wb\"\u001b[0m\u001b[0;34m)\u001b[0m \u001b[0;32mas\u001b[0m \u001b[0mfh\u001b[0m\u001b[0;34m:\u001b[0m\u001b[0;34m\u001b[0m\u001b[0;34m\u001b[0m\u001b[0m\n\u001b[0m\u001b[1;32m    522\u001b[0m             _png.write_png(renderer._renderer, fh,\n\u001b[1;32m    523\u001b[0m                             self.figure.dpi, metadata=metadata)\n",
      "\u001b[0;32m/anaconda3/lib/python3.7/contextlib.py\u001b[0m in \u001b[0;36m__enter__\u001b[0;34m(self)\u001b[0m\n\u001b[1;32m    110\u001b[0m         \u001b[0;32mdel\u001b[0m \u001b[0mself\u001b[0m\u001b[0;34m.\u001b[0m\u001b[0margs\u001b[0m\u001b[0;34m,\u001b[0m \u001b[0mself\u001b[0m\u001b[0;34m.\u001b[0m\u001b[0mkwds\u001b[0m\u001b[0;34m,\u001b[0m \u001b[0mself\u001b[0m\u001b[0;34m.\u001b[0m\u001b[0mfunc\u001b[0m\u001b[0;34m\u001b[0m\u001b[0;34m\u001b[0m\u001b[0m\n\u001b[1;32m    111\u001b[0m         \u001b[0;32mtry\u001b[0m\u001b[0;34m:\u001b[0m\u001b[0;34m\u001b[0m\u001b[0;34m\u001b[0m\u001b[0m\n\u001b[0;32m--> 112\u001b[0;31m             \u001b[0;32mreturn\u001b[0m \u001b[0mnext\u001b[0m\u001b[0;34m(\u001b[0m\u001b[0mself\u001b[0m\u001b[0;34m.\u001b[0m\u001b[0mgen\u001b[0m\u001b[0;34m)\u001b[0m\u001b[0;34m\u001b[0m\u001b[0;34m\u001b[0m\u001b[0m\n\u001b[0m\u001b[1;32m    113\u001b[0m         \u001b[0;32mexcept\u001b[0m \u001b[0mStopIteration\u001b[0m\u001b[0;34m:\u001b[0m\u001b[0;34m\u001b[0m\u001b[0;34m\u001b[0m\u001b[0m\n\u001b[1;32m    114\u001b[0m             \u001b[0;32mraise\u001b[0m \u001b[0mRuntimeError\u001b[0m\u001b[0;34m(\u001b[0m\u001b[0;34m\"generator didn't yield\"\u001b[0m\u001b[0;34m)\u001b[0m \u001b[0;32mfrom\u001b[0m \u001b[0;32mNone\u001b[0m\u001b[0;34m\u001b[0m\u001b[0;34m\u001b[0m\u001b[0m\n",
      "\u001b[0;32m/anaconda3/lib/python3.7/site-packages/matplotlib/cbook/__init__.py\u001b[0m in \u001b[0;36mopen_file_cm\u001b[0;34m(path_or_file, mode, encoding)\u001b[0m\n\u001b[1;32m    405\u001b[0m \u001b[0;32mdef\u001b[0m \u001b[0mopen_file_cm\u001b[0m\u001b[0;34m(\u001b[0m\u001b[0mpath_or_file\u001b[0m\u001b[0;34m,\u001b[0m \u001b[0mmode\u001b[0m\u001b[0;34m=\u001b[0m\u001b[0;34m\"r\"\u001b[0m\u001b[0;34m,\u001b[0m \u001b[0mencoding\u001b[0m\u001b[0;34m=\u001b[0m\u001b[0;32mNone\u001b[0m\u001b[0;34m)\u001b[0m\u001b[0;34m:\u001b[0m\u001b[0;34m\u001b[0m\u001b[0;34m\u001b[0m\u001b[0m\n\u001b[1;32m    406\u001b[0m     \u001b[0;34mr\"\"\"Pass through file objects and context-manage `.PathLike`\\s.\"\"\"\u001b[0m\u001b[0;34m\u001b[0m\u001b[0;34m\u001b[0m\u001b[0m\n\u001b[0;32m--> 407\u001b[0;31m     \u001b[0mfh\u001b[0m\u001b[0;34m,\u001b[0m \u001b[0mopened\u001b[0m \u001b[0;34m=\u001b[0m \u001b[0mto_filehandle\u001b[0m\u001b[0;34m(\u001b[0m\u001b[0mpath_or_file\u001b[0m\u001b[0;34m,\u001b[0m \u001b[0mmode\u001b[0m\u001b[0;34m,\u001b[0m \u001b[0;32mTrue\u001b[0m\u001b[0;34m,\u001b[0m \u001b[0mencoding\u001b[0m\u001b[0;34m)\u001b[0m\u001b[0;34m\u001b[0m\u001b[0;34m\u001b[0m\u001b[0m\n\u001b[0m\u001b[1;32m    408\u001b[0m     \u001b[0;32mif\u001b[0m \u001b[0mopened\u001b[0m\u001b[0;34m:\u001b[0m\u001b[0;34m\u001b[0m\u001b[0;34m\u001b[0m\u001b[0m\n\u001b[1;32m    409\u001b[0m         \u001b[0;32mwith\u001b[0m \u001b[0mfh\u001b[0m\u001b[0;34m:\u001b[0m\u001b[0;34m\u001b[0m\u001b[0;34m\u001b[0m\u001b[0m\n",
      "\u001b[0;32m/anaconda3/lib/python3.7/site-packages/matplotlib/cbook/__init__.py\u001b[0m in \u001b[0;36mto_filehandle\u001b[0;34m(fname, flag, return_opened, encoding)\u001b[0m\n\u001b[1;32m    390\u001b[0m             \u001b[0mfh\u001b[0m \u001b[0;34m=\u001b[0m \u001b[0mbz2\u001b[0m\u001b[0;34m.\u001b[0m\u001b[0mBZ2File\u001b[0m\u001b[0;34m(\u001b[0m\u001b[0mfname\u001b[0m\u001b[0;34m,\u001b[0m \u001b[0mflag\u001b[0m\u001b[0;34m)\u001b[0m\u001b[0;34m\u001b[0m\u001b[0;34m\u001b[0m\u001b[0m\n\u001b[1;32m    391\u001b[0m         \u001b[0;32melse\u001b[0m\u001b[0;34m:\u001b[0m\u001b[0;34m\u001b[0m\u001b[0;34m\u001b[0m\u001b[0m\n\u001b[0;32m--> 392\u001b[0;31m             \u001b[0mfh\u001b[0m \u001b[0;34m=\u001b[0m \u001b[0mopen\u001b[0m\u001b[0;34m(\u001b[0m\u001b[0mfname\u001b[0m\u001b[0;34m,\u001b[0m \u001b[0mflag\u001b[0m\u001b[0;34m,\u001b[0m \u001b[0mencoding\u001b[0m\u001b[0;34m=\u001b[0m\u001b[0mencoding\u001b[0m\u001b[0;34m)\u001b[0m\u001b[0;34m\u001b[0m\u001b[0;34m\u001b[0m\u001b[0m\n\u001b[0m\u001b[1;32m    393\u001b[0m         \u001b[0mopened\u001b[0m \u001b[0;34m=\u001b[0m \u001b[0;32mTrue\u001b[0m\u001b[0;34m\u001b[0m\u001b[0;34m\u001b[0m\u001b[0m\n\u001b[1;32m    394\u001b[0m     \u001b[0;32melif\u001b[0m \u001b[0mhasattr\u001b[0m\u001b[0;34m(\u001b[0m\u001b[0mfname\u001b[0m\u001b[0;34m,\u001b[0m \u001b[0;34m'seek'\u001b[0m\u001b[0;34m)\u001b[0m\u001b[0;34m:\u001b[0m\u001b[0;34m\u001b[0m\u001b[0;34m\u001b[0m\u001b[0m\n",
      "\u001b[0;31mFileNotFoundError\u001b[0m: [Errno 2] No such file or directory: './PLOT/all_feature.png'"
     ]
    },
    {
     "data": {
      "image/png": "[encoded data removed]",
      "text/plain": [
       "<Figure size 1152x864 with 6 Axes>"
      ]
     },
     "metadata": {
      "needs_background": "light"
     },
     "output_type": "display_data"
    }
   ],
   "source": [
    "ig, axes = plt.subplots(nrows=3, ncols=2, figsize=[16, 12])\n",
    "\n",
    "df['Gender'].value_counts().plot(kind='barh', ax=axes[0,0], title='Gender')\n",
    "df['Age'].value_counts().plot(kind='barh', ax=axes[0,1], title='Age')\n",
    "df['City_Category'].value_counts().plot(kind='barh', ax=axes[1,0], title='City_Category')\n",
    "df['Marital_Status'].value_counts().plot(kind='barh', ax=axes[1,1], title='Marital_Status')\n",
    "df['Occupation'].value_counts().plot(kind='barh', ax=axes[2,0], title='Occupation')\n",
    "df['Stay_In_Current_City_Years'].value_counts().plot(kind='barh', ax=axes[2,1], title='Stay_In_Current_City_Years')\n",
    "plt.savefig(\"./PLOT/all_feature.png\")\n",
    "plt.show()"
   ]
  },
  {
   "cell_type": "markdown",
   "metadata": {},
   "source": [
    "# Some feaures are numeric and some are categorical\n",
    "# Filtering the categorical features:"
   ]
  },
  {
   "cell_type": "code",
   "execution_count": null,
   "metadata": {},
   "outputs": [],
   "source": [
    "df.dtypes[df.dtypes=='object']"
   ]
  },
  {
   "cell_type": "markdown",
   "metadata": {},
   "source": [
    "# Distributions of numeric features"
   ]
  },
  {
   "cell_type": "code",
   "execution_count": 11,
   "metadata": {},
   "outputs": [
    {
     "data": {
      "image/png": "[encoded data removed]",
      "text/plain": [
       "<Figure size 1152x1152 with 9 Axes>"
      ]
     },
     "metadata": {
      "needs_background": "light"
     },
     "output_type": "display_data"
    }
   ],
   "source": [
    "# Plot histogram grid\n",
    "df.hist(figsize=(16,16), xrot=-45) ## Display the labels rotated by 45 degress\n",
    "\n",
    "# Clear the text \"residue\"\n",
    "plt.show()"
   ]
  },
  {
   "cell_type": "markdown",
   "metadata": {},
   "source": []
  },
  {
   "cell_type": "markdown",
   "metadata": {},
   "source": [
    "# Display summary statistics for the numerical features."
   ]
  },
  {
   "cell_type": "code",
   "execution_count": 12,
   "metadata": {},
   "outputs": [
    {
     "data": {
      "text/html": [
       "<div>\n",
       "<style scoped>\n",
       "    .dataframe tbody tr th:only-of-type {\n",
       "        vertical-align: middle;\n",
       "    }\n",
       "\n",
       "    .dataframe tbody tr th {\n",
       "        vertical-align: top;\n",
       "    }\n",
       "\n",
       "    .dataframe thead th {\n",
       "        text-align: right;\n",
       "    }\n",
       "</style>\n",
       "<table border=\"1\" class=\"dataframe\">\n",
       "  <thead>\n",
       "    <tr style=\"text-align: right;\">\n",
       "      <th></th>\n",
       "      <th>User_ID</th>\n",
       "      <th>Occupation</th>\n",
       "      <th>Marital_Status</th>\n",
       "      <th>Product_Category_1</th>\n",
       "      <th>Product_Category_2</th>\n",
       "      <th>Product_Category_3</th>\n",
       "      <th>Purchase</th>\n",
       "    </tr>\n",
       "  </thead>\n",
       "  <tbody>\n",
       "    <tr>\n",
       "      <th>count</th>\n",
       "      <td>5.375770e+05</td>\n",
       "      <td>537577.00000</td>\n",
       "      <td>537577.000000</td>\n",
       "      <td>537577.000000</td>\n",
       "      <td>370591.000000</td>\n",
       "      <td>164278.000000</td>\n",
       "      <td>537577.000000</td>\n",
       "    </tr>\n",
       "    <tr>\n",
       "      <th>mean</th>\n",
       "      <td>1.002992e+06</td>\n",
       "      <td>8.08271</td>\n",
       "      <td>0.408797</td>\n",
       "      <td>5.295546</td>\n",
       "      <td>9.842144</td>\n",
       "      <td>12.669840</td>\n",
       "      <td>9333.859853</td>\n",
       "    </tr>\n",
       "    <tr>\n",
       "      <th>std</th>\n",
       "      <td>1.714393e+03</td>\n",
       "      <td>6.52412</td>\n",
       "      <td>0.491612</td>\n",
       "      <td>3.750701</td>\n",
       "      <td>5.087259</td>\n",
       "      <td>4.124341</td>\n",
       "      <td>4981.022133</td>\n",
       "    </tr>\n",
       "    <tr>\n",
       "      <th>min</th>\n",
       "      <td>1.000001e+06</td>\n",
       "      <td>0.00000</td>\n",
       "      <td>0.000000</td>\n",
       "      <td>1.000000</td>\n",
       "      <td>2.000000</td>\n",
       "      <td>3.000000</td>\n",
       "      <td>185.000000</td>\n",
       "    </tr>\n",
       "    <tr>\n",
       "      <th>25%</th>\n",
       "      <td>1.001495e+06</td>\n",
       "      <td>2.00000</td>\n",
       "      <td>0.000000</td>\n",
       "      <td>1.000000</td>\n",
       "      <td>5.000000</td>\n",
       "      <td>9.000000</td>\n",
       "      <td>5866.000000</td>\n",
       "    </tr>\n",
       "    <tr>\n",
       "      <th>50%</th>\n",
       "      <td>1.003031e+06</td>\n",
       "      <td>7.00000</td>\n",
       "      <td>0.000000</td>\n",
       "      <td>5.000000</td>\n",
       "      <td>9.000000</td>\n",
       "      <td>14.000000</td>\n",
       "      <td>8062.000000</td>\n",
       "    </tr>\n",
       "    <tr>\n",
       "      <th>75%</th>\n",
       "      <td>1.004417e+06</td>\n",
       "      <td>14.00000</td>\n",
       "      <td>1.000000</td>\n",
       "      <td>8.000000</td>\n",
       "      <td>15.000000</td>\n",
       "      <td>16.000000</td>\n",
       "      <td>12073.000000</td>\n",
       "    </tr>\n",
       "    <tr>\n",
       "      <th>max</th>\n",
       "      <td>1.006040e+06</td>\n",
       "      <td>20.00000</td>\n",
       "      <td>1.000000</td>\n",
       "      <td>18.000000</td>\n",
       "      <td>18.000000</td>\n",
       "      <td>18.000000</td>\n",
       "      <td>23961.000000</td>\n",
       "    </tr>\n",
       "  </tbody>\n",
       "</table>\n",
       "</div>"
      ],
      "text/plain": [
       "            User_ID    Occupation  Marital_Status  Product_Category_1  \\\n",
       "count  5.375770e+05  537577.00000   537577.000000       537577.000000   \n",
       "mean   1.002992e+06       8.08271        0.408797            5.295546   \n",
       "std    1.714393e+03       6.52412        0.491612            3.750701   \n",
       "min    1.000001e+06       0.00000        0.000000            1.000000   \n",
       "25%    1.001495e+06       2.00000        0.000000            1.000000   \n",
       "50%    1.003031e+06       7.00000        0.000000            5.000000   \n",
       "75%    1.004417e+06      14.00000        1.000000            8.000000   \n",
       "max    1.006040e+06      20.00000        1.000000           18.000000   \n",
       "\n",
       "       Product_Category_2  Product_Category_3       Purchase  \n",
       "count       370591.000000       164278.000000  537577.000000  \n",
       "mean             9.842144           12.669840    9333.859853  \n",
       "std              5.087259            4.124341    4981.022133  \n",
       "min              2.000000            3.000000     185.000000  \n",
       "25%              5.000000            9.000000    5866.000000  \n",
       "50%              9.000000           14.000000    8062.000000  \n",
       "75%             15.000000           16.000000   12073.000000  \n",
       "max             18.000000           18.000000   23961.000000  "
      ]
     },
     "execution_count": 12,
     "metadata": {},
     "output_type": "execute_result"
    }
   ],
   "source": [
    "df.describe()"
   ]
  },
  {
   "cell_type": "markdown",
   "metadata": {},
   "source": [
    "# Obeservation:\n",
    "\n",
    "Look at the 'Purchase' column, we can see that its max value is 23961.\n",
    "Its standard deviation is 4981, while its min is 185 and mean is 9333. "
   ]
  },
  {
   "cell_type": "markdown",
   "metadata": {},
   "source": [
    "# categorical features distribution"
   ]
  },
  {
   "cell_type": "code",
   "execution_count": 13,
   "metadata": {},
   "outputs": [],
   "source": [
    "#Let's Display summary statistics."
   ]
  },
  {
   "cell_type": "code",
   "execution_count": 14,
   "metadata": {},
   "outputs": [
    {
     "data": {
      "text/html": [
       "<div>\n",
       "<style scoped>\n",
       "    .dataframe tbody tr th:only-of-type {\n",
       "        vertical-align: middle;\n",
       "    }\n",
       "\n",
       "    .dataframe tbody tr th {\n",
       "        vertical-align: top;\n",
       "    }\n",
       "\n",
       "    .dataframe thead th {\n",
       "        text-align: right;\n",
       "    }\n",
       "</style>\n",
       "<table border=\"1\" class=\"dataframe\">\n",
       "  <thead>\n",
       "    <tr style=\"text-align: right;\">\n",
       "      <th></th>\n",
       "      <th>Product_ID</th>\n",
       "      <th>Gender</th>\n",
       "      <th>Age</th>\n",
       "      <th>City_Category</th>\n",
       "      <th>Stay_In_Current_City_Years</th>\n",
       "    </tr>\n",
       "  </thead>\n",
       "  <tbody>\n",
       "    <tr>\n",
       "      <th>count</th>\n",
       "      <td>537577</td>\n",
       "      <td>537577</td>\n",
       "      <td>537577</td>\n",
       "      <td>537577</td>\n",
       "      <td>537577</td>\n",
       "    </tr>\n",
       "    <tr>\n",
       "      <th>unique</th>\n",
       "      <td>3623</td>\n",
       "      <td>2</td>\n",
       "      <td>7</td>\n",
       "      <td>3</td>\n",
       "      <td>5</td>\n",
       "    </tr>\n",
       "    <tr>\n",
       "      <th>top</th>\n",
       "      <td>P00265242</td>\n",
       "      <td>M</td>\n",
       "      <td>26-35</td>\n",
       "      <td>B</td>\n",
       "      <td>1</td>\n",
       "    </tr>\n",
       "    <tr>\n",
       "      <th>freq</th>\n",
       "      <td>1858</td>\n",
       "      <td>405380</td>\n",
       "      <td>214690</td>\n",
       "      <td>226493</td>\n",
       "      <td>189192</td>\n",
       "    </tr>\n",
       "  </tbody>\n",
       "</table>\n",
       "</div>"
      ],
      "text/plain": [
       "       Product_ID  Gender     Age City_Category Stay_In_Current_City_Years\n",
       "count      537577  537577  537577        537577                     537577\n",
       "unique       3623       2       7             3                          5\n",
       "top     P00265242       M   26-35             B                          1\n",
       "freq         1858  405380  214690        226493                     189192"
      ]
     },
     "execution_count": 14,
     "metadata": {},
     "output_type": "execute_result"
    }
   ],
   "source": [
    "df.describe(include=['object'])"
   ]
  },
  {
   "cell_type": "code",
   "execution_count": 15,
   "metadata": {},
   "outputs": [
    {
     "data": {
      "text/html": [
       "<style  type=\"text/css\" >\n",
       "    #T_efa65f0e_8739_11e9_a446_f018980bf1dfrow0_col0 {\n",
       "            background-color:  #084081;\n",
       "        }    #T_efa65f0e_8739_11e9_a446_f018980bf1dfrow0_col1 {\n",
       "            background-color:  #ecf8e6;\n",
       "        }    #T_efa65f0e_8739_11e9_a446_f018980bf1dfrow0_col2 {\n",
       "            background-color:  #f2faeb;\n",
       "        }    #T_efa65f0e_8739_11e9_a446_f018980bf1dfrow0_col3 {\n",
       "            background-color:  #eef8e7;\n",
       "        }    #T_efa65f0e_8739_11e9_a446_f018980bf1dfrow0_col4 {\n",
       "            background-color:  #f7fcf0;\n",
       "        }    #T_efa65f0e_8739_11e9_a446_f018980bf1dfrow0_col5 {\n",
       "            background-color:  #edf8e7;\n",
       "        }    #T_efa65f0e_8739_11e9_a446_f018980bf1dfrow0_col6 {\n",
       "            background-color:  #f7fcf0;\n",
       "        }    #T_efa65f0e_8739_11e9_a446_f018980bf1dfrow0_col7 {\n",
       "            background-color:  #f2faeb;\n",
       "        }    #T_efa65f0e_8739_11e9_a446_f018980bf1dfrow0_col8 {\n",
       "            background-color:  #c6e9c2;\n",
       "        }    #T_efa65f0e_8739_11e9_a446_f018980bf1dfrow0_col9 {\n",
       "            background-color:  #d2edcc;\n",
       "        }    #T_efa65f0e_8739_11e9_a446_f018980bf1dfrow0_col10 {\n",
       "            background-color:  #d8f0d2;\n",
       "        }    #T_efa65f0e_8739_11e9_a446_f018980bf1dfrow0_col11 {\n",
       "            background-color:  #c6e9c2;\n",
       "        }    #T_efa65f0e_8739_11e9_a446_f018980bf1dfrow1_col0 {\n",
       "            background-color:  #f5fbee;\n",
       "        }    #T_efa65f0e_8739_11e9_a446_f018980bf1dfrow1_col1 {\n",
       "            background-color:  #084081;\n",
       "        }    #T_efa65f0e_8739_11e9_a446_f018980bf1dfrow1_col2 {\n",
       "            background-color:  #e9f7e3;\n",
       "        }    #T_efa65f0e_8739_11e9_a446_f018980bf1dfrow1_col3 {\n",
       "            background-color:  #f2faeb;\n",
       "        }    #T_efa65f0e_8739_11e9_a446_f018980bf1dfrow1_col4 {\n",
       "            background-color:  #f2faeb;\n",
       "        }    #T_efa65f0e_8739_11e9_a446_f018980bf1dfrow1_col5 {\n",
       "            background-color:  #f1faeb;\n",
       "        }    #T_efa65f0e_8739_11e9_a446_f018980bf1dfrow1_col6 {\n",
       "            background-color:  #f3faec;\n",
       "        }    #T_efa65f0e_8739_11e9_a446_f018980bf1dfrow1_col7 {\n",
       "            background-color:  #f3faec;\n",
       "        }    #T_efa65f0e_8739_11e9_a446_f018980bf1dfrow1_col8 {\n",
       "            background-color:  #c5e8c2;\n",
       "        }    #T_efa65f0e_8739_11e9_a446_f018980bf1dfrow1_col9 {\n",
       "            background-color:  #c0e6c0;\n",
       "        }    #T_efa65f0e_8739_11e9_a446_f018980bf1dfrow1_col10 {\n",
       "            background-color:  #c0e6c0;\n",
       "        }    #T_efa65f0e_8739_11e9_a446_f018980bf1dfrow1_col11 {\n",
       "            background-color:  #d3eecc;\n",
       "        }    #T_efa65f0e_8739_11e9_a446_f018980bf1dfrow2_col0 {\n",
       "            background-color:  #f7fcf0;\n",
       "        }    #T_efa65f0e_8739_11e9_a446_f018980bf1dfrow2_col1 {\n",
       "            background-color:  #e6f6e1;\n",
       "        }    #T_efa65f0e_8739_11e9_a446_f018980bf1dfrow2_col2 {\n",
       "            background-color:  #084081;\n",
       "        }    #T_efa65f0e_8739_11e9_a446_f018980bf1dfrow2_col3 {\n",
       "            background-color:  #f7fcf0;\n",
       "        }    #T_efa65f0e_8739_11e9_a446_f018980bf1dfrow2_col4 {\n",
       "            background-color:  #dff2da;\n",
       "        }    #T_efa65f0e_8739_11e9_a446_f018980bf1dfrow2_col5 {\n",
       "            background-color:  #f2faeb;\n",
       "        }    #T_efa65f0e_8739_11e9_a446_f018980bf1dfrow2_col6 {\n",
       "            background-color:  #f0f9e9;\n",
       "        }    #T_efa65f0e_8739_11e9_a446_f018980bf1dfrow2_col7 {\n",
       "            background-color:  #f7fcf0;\n",
       "        }    #T_efa65f0e_8739_11e9_a446_f018980bf1dfrow2_col8 {\n",
       "            background-color:  #d0edca;\n",
       "        }    #T_efa65f0e_8739_11e9_a446_f018980bf1dfrow2_col9 {\n",
       "            background-color:  #d4eece;\n",
       "        }    #T_efa65f0e_8739_11e9_a446_f018980bf1dfrow2_col10 {\n",
       "            background-color:  #d8f0d2;\n",
       "        }    #T_efa65f0e_8739_11e9_a446_f018980bf1dfrow2_col11 {\n",
       "            background-color:  #bbe4bd;\n",
       "        }    #T_efa65f0e_8739_11e9_a446_f018980bf1dfrow3_col0 {\n",
       "            background-color:  #eaf7e4;\n",
       "        }    #T_efa65f0e_8739_11e9_a446_f018980bf1dfrow3_col1 {\n",
       "            background-color:  #e6f5e0;\n",
       "        }    #T_efa65f0e_8739_11e9_a446_f018980bf1dfrow3_col2 {\n",
       "            background-color:  #eef8e7;\n",
       "        }    #T_efa65f0e_8739_11e9_a446_f018980bf1dfrow3_col3 {\n",
       "            background-color:  #084081;\n",
       "        }    #T_efa65f0e_8739_11e9_a446_f018980bf1dfrow3_col4 {\n",
       "            background-color:  #e3f4de;\n",
       "        }    #T_efa65f0e_8739_11e9_a446_f018980bf1dfrow3_col5 {\n",
       "            background-color:  #dff2da;\n",
       "        }    #T_efa65f0e_8739_11e9_a446_f018980bf1dfrow3_col6 {\n",
       "            background-color:  #f3faec;\n",
       "        }    #T_efa65f0e_8739_11e9_a446_f018980bf1dfrow3_col7 {\n",
       "            background-color:  #bae4bd;\n",
       "        }    #T_efa65f0e_8739_11e9_a446_f018980bf1dfrow3_col8 {\n",
       "            background-color:  #bae4bd;\n",
       "        }    #T_efa65f0e_8739_11e9_a446_f018980bf1dfrow3_col9 {\n",
       "            background-color:  #ceecc7;\n",
       "        }    #T_efa65f0e_8739_11e9_a446_f018980bf1dfrow3_col10 {\n",
       "            background-color:  #d2edcc;\n",
       "        }    #T_efa65f0e_8739_11e9_a446_f018980bf1dfrow3_col11 {\n",
       "            background-color:  #c2e7c0;\n",
       "        }    #T_efa65f0e_8739_11e9_a446_f018980bf1dfrow4_col0 {\n",
       "            background-color:  #f6fbef;\n",
       "        }    #T_efa65f0e_8739_11e9_a446_f018980bf1dfrow4_col1 {\n",
       "            background-color:  #e8f6e2;\n",
       "        }    #T_efa65f0e_8739_11e9_a446_f018980bf1dfrow4_col2 {\n",
       "            background-color:  #d9f0d3;\n",
       "        }    #T_efa65f0e_8739_11e9_a446_f018980bf1dfrow4_col3 {\n",
       "            background-color:  #e5f5e0;\n",
       "        }    #T_efa65f0e_8739_11e9_a446_f018980bf1dfrow4_col4 {\n",
       "            background-color:  #084081;\n",
       "        }    #T_efa65f0e_8739_11e9_a446_f018980bf1dfrow4_col5 {\n",
       "            background-color:  #ebf7e5;\n",
       "        }    #T_efa65f0e_8739_11e9_a446_f018980bf1dfrow4_col6 {\n",
       "            background-color:  #edf8e7;\n",
       "        }    #T_efa65f0e_8739_11e9_a446_f018980bf1dfrow4_col7 {\n",
       "            background-color:  #f2faeb;\n",
       "        }    #T_efa65f0e_8739_11e9_a446_f018980bf1dfrow4_col8 {\n",
       "            background-color:  #c9eac4;\n",
       "        }    #T_efa65f0e_8739_11e9_a446_f018980bf1dfrow4_col9 {\n",
       "            background-color:  #d3eecd;\n",
       "        }    #T_efa65f0e_8739_11e9_a446_f018980bf1dfrow4_col10 {\n",
       "            background-color:  #d5efcf;\n",
       "        }    #T_efa65f0e_8739_11e9_a446_f018980bf1dfrow4_col11 {\n",
       "            background-color:  #c2e7c0;\n",
       "        }    #T_efa65f0e_8739_11e9_a446_f018980bf1dfrow5_col0 {\n",
       "            background-color:  #edf8e7;\n",
       "        }    #T_efa65f0e_8739_11e9_a446_f018980bf1dfrow5_col1 {\n",
       "            background-color:  #e9f7e3;\n",
       "        }    #T_efa65f0e_8739_11e9_a446_f018980bf1dfrow5_col2 {\n",
       "            background-color:  #edf8e7;\n",
       "        }    #T_efa65f0e_8739_11e9_a446_f018980bf1dfrow5_col3 {\n",
       "            background-color:  #e3f4de;\n",
       "        }    #T_efa65f0e_8739_11e9_a446_f018980bf1dfrow5_col4 {\n",
       "            background-color:  #edf8e7;\n",
       "        }    #T_efa65f0e_8739_11e9_a446_f018980bf1dfrow5_col5 {\n",
       "            background-color:  #084081;\n",
       "        }    #T_efa65f0e_8739_11e9_a446_f018980bf1dfrow5_col6 {\n",
       "            background-color:  #eef9e8;\n",
       "        }    #T_efa65f0e_8739_11e9_a446_f018980bf1dfrow5_col7 {\n",
       "            background-color:  #eef8e7;\n",
       "        }    #T_efa65f0e_8739_11e9_a446_f018980bf1dfrow5_col8 {\n",
       "            background-color:  #ccebc6;\n",
       "        }    #T_efa65f0e_8739_11e9_a446_f018980bf1dfrow5_col9 {\n",
       "            background-color:  #d7efd1;\n",
       "        }    #T_efa65f0e_8739_11e9_a446_f018980bf1dfrow5_col10 {\n",
       "            background-color:  #d9f0d3;\n",
       "        }    #T_efa65f0e_8739_11e9_a446_f018980bf1dfrow5_col11 {\n",
       "            background-color:  #b9e3bc;\n",
       "        }    #T_efa65f0e_8739_11e9_a446_f018980bf1dfrow6_col0 {\n",
       "            background-color:  #f7fcf0;\n",
       "        }    #T_efa65f0e_8739_11e9_a446_f018980bf1dfrow6_col1 {\n",
       "            background-color:  #eaf7e4;\n",
       "        }    #T_efa65f0e_8739_11e9_a446_f018980bf1dfrow6_col2 {\n",
       "            background-color:  #eaf7e4;\n",
       "        }    #T_efa65f0e_8739_11e9_a446_f018980bf1dfrow6_col3 {\n",
       "            background-color:  #f7fcf0;\n",
       "        }    #T_efa65f0e_8739_11e9_a446_f018980bf1dfrow6_col4 {\n",
       "            background-color:  #eef9e8;\n",
       "        }    #T_efa65f0e_8739_11e9_a446_f018980bf1dfrow6_col5 {\n",
       "            background-color:  #eef8e7;\n",
       "        }    #T_efa65f0e_8739_11e9_a446_f018980bf1dfrow6_col6 {\n",
       "            background-color:  #084081;\n",
       "        }    #T_efa65f0e_8739_11e9_a446_f018980bf1dfrow6_col7 {\n",
       "            background-color:  #f7fcf0;\n",
       "        }    #T_efa65f0e_8739_11e9_a446_f018980bf1dfrow6_col8 {\n",
       "            background-color:  #c8eac3;\n",
       "        }    #T_efa65f0e_8739_11e9_a446_f018980bf1dfrow6_col9 {\n",
       "            background-color:  #d3eecc;\n",
       "        }    #T_efa65f0e_8739_11e9_a446_f018980bf1dfrow6_col10 {\n",
       "            background-color:  #d5eece;\n",
       "        }    #T_efa65f0e_8739_11e9_a446_f018980bf1dfrow6_col11 {\n",
       "            background-color:  #c5e8c2;\n",
       "        }    #T_efa65f0e_8739_11e9_a446_f018980bf1dfrow7_col0 {\n",
       "            background-color:  #eef9e8;\n",
       "        }    #T_efa65f0e_8739_11e9_a446_f018980bf1dfrow7_col1 {\n",
       "            background-color:  #e8f6e2;\n",
       "        }    #T_efa65f0e_8739_11e9_a446_f018980bf1dfrow7_col2 {\n",
       "            background-color:  #eef9e8;\n",
       "        }    #T_efa65f0e_8739_11e9_a446_f018980bf1dfrow7_col3 {\n",
       "            background-color:  #bbe4bd;\n",
       "        }    #T_efa65f0e_8739_11e9_a446_f018980bf1dfrow7_col4 {\n",
       "            background-color:  #f1f9ea;\n",
       "        }    #T_efa65f0e_8739_11e9_a446_f018980bf1dfrow7_col5 {\n",
       "            background-color:  #eaf7e4;\n",
       "        }    #T_efa65f0e_8739_11e9_a446_f018980bf1dfrow7_col6 {\n",
       "            background-color:  #f4fbed;\n",
       "        }    #T_efa65f0e_8739_11e9_a446_f018980bf1dfrow7_col7 {\n",
       "            background-color:  #084081;\n",
       "        }    #T_efa65f0e_8739_11e9_a446_f018980bf1dfrow7_col8 {\n",
       "            background-color:  #c3e7c1;\n",
       "        }    #T_efa65f0e_8739_11e9_a446_f018980bf1dfrow7_col9 {\n",
       "            background-color:  #d0edca;\n",
       "        }    #T_efa65f0e_8739_11e9_a446_f018980bf1dfrow7_col10 {\n",
       "            background-color:  #d3eecc;\n",
       "        }    #T_efa65f0e_8739_11e9_a446_f018980bf1dfrow7_col11 {\n",
       "            background-color:  #c6e9c2;\n",
       "        }    #T_efa65f0e_8739_11e9_a446_f018980bf1dfrow8_col0 {\n",
       "            background-color:  #f1faeb;\n",
       "        }    #T_efa65f0e_8739_11e9_a446_f018980bf1dfrow8_col1 {\n",
       "            background-color:  #e8f6e2;\n",
       "        }    #T_efa65f0e_8739_11e9_a446_f018980bf1dfrow8_col2 {\n",
       "            background-color:  #f7fcf0;\n",
       "        }    #T_efa65f0e_8739_11e9_a446_f018980bf1dfrow8_col3 {\n",
       "            background-color:  #ebf7e5;\n",
       "        }    #T_efa65f0e_8739_11e9_a446_f018980bf1dfrow8_col4 {\n",
       "            background-color:  #f6fcef;\n",
       "        }    #T_efa65f0e_8739_11e9_a446_f018980bf1dfrow8_col5 {\n",
       "            background-color:  #f7fcf0;\n",
       "        }    #T_efa65f0e_8739_11e9_a446_f018980bf1dfrow8_col6 {\n",
       "            background-color:  #f3fbed;\n",
       "        }    #T_efa65f0e_8739_11e9_a446_f018980bf1dfrow8_col7 {\n",
       "            background-color:  #f1faeb;\n",
       "        }    #T_efa65f0e_8739_11e9_a446_f018980bf1dfrow8_col8 {\n",
       "            background-color:  #084081;\n",
       "        }    #T_efa65f0e_8739_11e9_a446_f018980bf1dfrow8_col9 {\n",
       "            background-color:  #41a5cb;\n",
       "        }    #T_efa65f0e_8739_11e9_a446_f018980bf1dfrow8_col10 {\n",
       "            background-color:  #73c8c7;\n",
       "        }    #T_efa65f0e_8739_11e9_a446_f018980bf1dfrow8_col11 {\n",
       "            background-color:  #f7fcf0;\n",
       "        }    #T_efa65f0e_8739_11e9_a446_f018980bf1dfrow9_col0 {\n",
       "            background-color:  #f2faeb;\n",
       "        }    #T_efa65f0e_8739_11e9_a446_f018980bf1dfrow9_col1 {\n",
       "            background-color:  #daf0d4;\n",
       "        }    #T_efa65f0e_8739_11e9_a446_f018980bf1dfrow9_col2 {\n",
       "            background-color:  #eef9e8;\n",
       "        }    #T_efa65f0e_8739_11e9_a446_f018980bf1dfrow9_col3 {\n",
       "            background-color:  #f0f9e9;\n",
       "        }    #T_efa65f0e_8739_11e9_a446_f018980bf1dfrow9_col4 {\n",
       "            background-color:  #f5fbee;\n",
       "        }    #T_efa65f0e_8739_11e9_a446_f018980bf1dfrow9_col5 {\n",
       "            background-color:  #f7fcf0;\n",
       "        }    #T_efa65f0e_8739_11e9_a446_f018980bf1dfrow9_col6 {\n",
       "            background-color:  #f3faec;\n",
       "        }    #T_efa65f0e_8739_11e9_a446_f018980bf1dfrow9_col7 {\n",
       "            background-color:  #f3faec;\n",
       "        }    #T_efa65f0e_8739_11e9_a446_f018980bf1dfrow9_col8 {\n",
       "            background-color:  #3b9dc7;\n",
       "        }    #T_efa65f0e_8739_11e9_a446_f018980bf1dfrow9_col9 {\n",
       "            background-color:  #084081;\n",
       "        }    #T_efa65f0e_8739_11e9_a446_f018980bf1dfrow9_col10 {\n",
       "            background-color:  #4fb3d3;\n",
       "        }    #T_efa65f0e_8739_11e9_a446_f018980bf1dfrow9_col11 {\n",
       "            background-color:  #eaf7e4;\n",
       "        }    #T_efa65f0e_8739_11e9_a446_f018980bf1dfrow10_col0 {\n",
       "            background-color:  #f6fcef;\n",
       "        }    #T_efa65f0e_8739_11e9_a446_f018980bf1dfrow10_col1 {\n",
       "            background-color:  #d7efd1;\n",
       "        }    #T_efa65f0e_8739_11e9_a446_f018980bf1dfrow10_col2 {\n",
       "            background-color:  #f1f9ea;\n",
       "        }    #T_efa65f0e_8739_11e9_a446_f018980bf1dfrow10_col3 {\n",
       "            background-color:  #f3faec;\n",
       "        }    #T_efa65f0e_8739_11e9_a446_f018980bf1dfrow10_col4 {\n",
       "            background-color:  #f5fbee;\n",
       "        }    #T_efa65f0e_8739_11e9_a446_f018980bf1dfrow10_col5 {\n",
       "            background-color:  #f7fcf0;\n",
       "        }    #T_efa65f0e_8739_11e9_a446_f018980bf1dfrow10_col6 {\n",
       "            background-color:  #f2faeb;\n",
       "        }    #T_efa65f0e_8739_11e9_a446_f018980bf1dfrow10_col7 {\n",
       "            background-color:  #f3faec;\n",
       "        }    #T_efa65f0e_8739_11e9_a446_f018980bf1dfrow10_col8 {\n",
       "            background-color:  #64bfcc;\n",
       "        }    #T_efa65f0e_8739_11e9_a446_f018980bf1dfrow10_col9 {\n",
       "            background-color:  #4db2d3;\n",
       "        }    #T_efa65f0e_8739_11e9_a446_f018980bf1dfrow10_col10 {\n",
       "            background-color:  #084081;\n",
       "        }    #T_efa65f0e_8739_11e9_a446_f018980bf1dfrow10_col11 {\n",
       "            background-color:  #e7f6e2;\n",
       "        }    #T_efa65f0e_8739_11e9_a446_f018980bf1dfrow11_col0 {\n",
       "            background-color:  #f1faeb;\n",
       "        }    #T_efa65f0e_8739_11e9_a446_f018980bf1dfrow11_col1 {\n",
       "            background-color:  #f7fcf0;\n",
       "        }    #T_efa65f0e_8739_11e9_a446_f018980bf1dfrow11_col2 {\n",
       "            background-color:  #e3f4de;\n",
       "        }    #T_efa65f0e_8739_11e9_a446_f018980bf1dfrow11_col3 {\n",
       "            background-color:  #f2faeb;\n",
       "        }    #T_efa65f0e_8739_11e9_a446_f018980bf1dfrow11_col4 {\n",
       "            background-color:  #f0f9e9;\n",
       "        }    #T_efa65f0e_8739_11e9_a446_f018980bf1dfrow11_col5 {\n",
       "            background-color:  #e5f5e0;\n",
       "        }    #T_efa65f0e_8739_11e9_a446_f018980bf1dfrow11_col6 {\n",
       "            background-color:  #f1faeb;\n",
       "        }    #T_efa65f0e_8739_11e9_a446_f018980bf1dfrow11_col7 {\n",
       "            background-color:  #f5fbee;\n",
       "        }    #T_efa65f0e_8739_11e9_a446_f018980bf1dfrow11_col8 {\n",
       "            background-color:  #f7fcf0;\n",
       "        }    #T_efa65f0e_8739_11e9_a446_f018980bf1dfrow11_col9 {\n",
       "            background-color:  #f7fcf0;\n",
       "        }    #T_efa65f0e_8739_11e9_a446_f018980bf1dfrow11_col10 {\n",
       "            background-color:  #f7fcf0;\n",
       "        }    #T_efa65f0e_8739_11e9_a446_f018980bf1dfrow11_col11 {\n",
       "            background-color:  #084081;\n",
       "        }</style>  \n",
       "<table id=\"T_efa65f0e_8739_11e9_a446_f018980bf1df\" > \n",
       "<thead>    <tr> \n",
       "        <th class=\"blank level0\" ></th> \n",
       "        <th class=\"col_heading level0 col0\" >User_ID</th> \n",
       "        <th class=\"col_heading level0 col1\" >Product_ID</th> \n",
       "        <th class=\"col_heading level0 col2\" >Gender</th> \n",
       "        <th class=\"col_heading level0 col3\" >Age</th> \n",
       "        <th class=\"col_heading level0 col4\" >Occupation</th> \n",
       "        <th class=\"col_heading level0 col5\" >City_Category</th> \n",
       "        <th class=\"col_heading level0 col6\" >Stay_In_Current_City_Years</th> \n",
       "        <th class=\"col_heading level0 col7\" >Marital_Status</th> \n",
       "        <th class=\"col_heading level0 col8\" >Product_Category_1</th> \n",
       "        <th class=\"col_heading level0 col9\" >Product_Category_2</th> \n",
       "        <th class=\"col_heading level0 col10\" >Product_Category_3</th> \n",
       "        <th class=\"col_heading level0 col11\" >Purchase</th> \n",
       "    </tr></thead> \n",
       "<tbody>    <tr> \n",
       "        <th id=\"T_efa65f0e_8739_11e9_a446_f018980bf1dflevel0_row0\" class=\"row_heading level0 row0\" >User_ID</th> \n",
       "        <td id=\"T_efa65f0e_8739_11e9_a446_f018980bf1dfrow0_col0\" class=\"data row0 col0\" >1</td> \n",
       "        <td id=\"T_efa65f0e_8739_11e9_a446_f018980bf1dfrow0_col1\" class=\"data row0 col1\" >-0.016</td> \n",
       "        <td id=\"T_efa65f0e_8739_11e9_a446_f018980bf1dfrow0_col2\" class=\"data row0 col2\" >-0.031</td> \n",
       "        <td id=\"T_efa65f0e_8739_11e9_a446_f018980bf1dfrow0_col3\" class=\"data row0 col3\" >0.046</td> \n",
       "        <td id=\"T_efa65f0e_8739_11e9_a446_f018980bf1dfrow0_col4\" class=\"data row0 col4\" >-0.021</td> \n",
       "        <td id=\"T_efa65f0e_8739_11e9_a446_f018980bf1dfrow0_col5\" class=\"data row0 col5\" >0.026</td> \n",
       "        <td id=\"T_efa65f0e_8739_11e9_a446_f018980bf1dfrow0_col6\" class=\"data row0 col6\" >-0.03</td> \n",
       "        <td id=\"T_efa65f0e_8739_11e9_a446_f018980bf1dfrow0_col7\" class=\"data row0 col7\" >0.019</td> \n",
       "        <td id=\"T_efa65f0e_8739_11e9_a446_f018980bf1dfrow0_col8\" class=\"data row0 col8\" >0.0024</td> \n",
       "        <td id=\"T_efa65f0e_8739_11e9_a446_f018980bf1dfrow0_col9\" class=\"data row0 col9\" >0.0014</td> \n",
       "        <td id=\"T_efa65f0e_8739_11e9_a446_f018980bf1dfrow0_col10\" class=\"data row0 col10\" >-0.026</td> \n",
       "        <td id=\"T_efa65f0e_8739_11e9_a446_f018980bf1dfrow0_col11\" class=\"data row0 col11\" >0.0043</td> \n",
       "    </tr>    <tr> \n",
       "        <th id=\"T_efa65f0e_8739_11e9_a446_f018980bf1dflevel0_row1\" class=\"row_heading level0 row1\" >Product_ID</th> \n",
       "        <td id=\"T_efa65f0e_8739_11e9_a446_f018980bf1dfrow1_col0\" class=\"data row1 col0\" >-0.016</td> \n",
       "        <td id=\"T_efa65f0e_8739_11e9_a446_f018980bf1dfrow1_col1\" class=\"data row1 col1\" >1</td> \n",
       "        <td id=\"T_efa65f0e_8739_11e9_a446_f018980bf1dfrow1_col2\" class=\"data row1 col2\" >0.018</td> \n",
       "        <td id=\"T_efa65f0e_8739_11e9_a446_f018980bf1dfrow1_col3\" class=\"data row1 col3\" >0.022</td> \n",
       "        <td id=\"T_efa65f0e_8739_11e9_a446_f018980bf1dfrow1_col4\" class=\"data row1 col4\" >0.0081</td> \n",
       "        <td id=\"T_efa65f0e_8739_11e9_a446_f018980bf1dfrow1_col5\" class=\"data row1 col5\" >0.00085</td> \n",
       "        <td id=\"T_efa65f0e_8739_11e9_a446_f018980bf1dfrow1_col6\" class=\"data row1 col6\" >-0.0018</td> \n",
       "        <td id=\"T_efa65f0e_8739_11e9_a446_f018980bf1dfrow1_col7\" class=\"data row1 col7\" >0.011</td> \n",
       "        <td id=\"T_efa65f0e_8739_11e9_a446_f018980bf1dfrow1_col8\" class=\"data row1 col8\" >0.0098</td> \n",
       "        <td id=\"T_efa65f0e_8739_11e9_a446_f018980bf1dfrow1_col9\" class=\"data row1 col9\" >0.1</td> \n",
       "        <td id=\"T_efa65f0e_8739_11e9_a446_f018980bf1dfrow1_col10\" class=\"data row1 col10\" >0.12</td> \n",
       "        <td id=\"T_efa65f0e_8739_11e9_a446_f018980bf1dfrow1_col11\" class=\"data row1 col11\" >-0.081</td> \n",
       "    </tr>    <tr> \n",
       "        <th id=\"T_efa65f0e_8739_11e9_a446_f018980bf1dflevel0_row2\" class=\"row_heading level0 row2\" >Gender</th> \n",
       "        <td id=\"T_efa65f0e_8739_11e9_a446_f018980bf1dfrow2_col0\" class=\"data row2 col0\" >-0.031</td> \n",
       "        <td id=\"T_efa65f0e_8739_11e9_a446_f018980bf1dfrow2_col1\" class=\"data row2 col1\" >0.018</td> \n",
       "        <td id=\"T_efa65f0e_8739_11e9_a446_f018980bf1dfrow2_col2\" class=\"data row2 col2\" >1</td> \n",
       "        <td id=\"T_efa65f0e_8739_11e9_a446_f018980bf1dfrow2_col3\" class=\"data row2 col3\" >-0.0058</td> \n",
       "        <td id=\"T_efa65f0e_8739_11e9_a446_f018980bf1dfrow2_col4\" class=\"data row2 col4\" >0.12</td> \n",
       "        <td id=\"T_efa65f0e_8739_11e9_a446_f018980bf1dfrow2_col5\" class=\"data row2 col5\" >-0.004</td> \n",
       "        <td id=\"T_efa65f0e_8739_11e9_a446_f018980bf1dfrow2_col6\" class=\"data row2 col6\" >0.014</td> \n",
       "        <td id=\"T_efa65f0e_8739_11e9_a446_f018980bf1dfrow2_col7\" class=\"data row2 col7\" >-0.01</td> \n",
       "        <td id=\"T_efa65f0e_8739_11e9_a446_f018980bf1dfrow2_col8\" class=\"data row2 col8\" >-0.063</td> \n",
       "        <td id=\"T_efa65f0e_8739_11e9_a446_f018980bf1dfrow2_col9\" class=\"data row2 col9\" >-0.012</td> \n",
       "        <td id=\"T_efa65f0e_8739_11e9_a446_f018980bf1dfrow2_col10\" class=\"data row2 col10\" >-0.024</td> \n",
       "        <td id=\"T_efa65f0e_8739_11e9_a446_f018980bf1dfrow2_col11\" class=\"data row2 col11\" >0.054</td> \n",
       "    </tr>    <tr> \n",
       "        <th id=\"T_efa65f0e_8739_11e9_a446_f018980bf1dflevel0_row3\" class=\"row_heading level0 row3\" >Age</th> \n",
       "        <td id=\"T_efa65f0e_8739_11e9_a446_f018980bf1dfrow3_col0\" class=\"data row3 col0\" >0.046</td> \n",
       "        <td id=\"T_efa65f0e_8739_11e9_a446_f018980bf1dfrow3_col1\" class=\"data row3 col1\" >0.022</td> \n",
       "        <td id=\"T_efa65f0e_8739_11e9_a446_f018980bf1dfrow3_col2\" class=\"data row3 col2\" >-0.0058</td> \n",
       "        <td id=\"T_efa65f0e_8739_11e9_a446_f018980bf1dfrow3_col3\" class=\"data row3 col3\" >1</td> \n",
       "        <td id=\"T_efa65f0e_8739_11e9_a446_f018980bf1dfrow3_col4\" class=\"data row3 col4\" >0.093</td> \n",
       "        <td id=\"T_efa65f0e_8739_11e9_a446_f018980bf1dfrow3_col5\" class=\"data row3 col5\" >0.11</td> \n",
       "        <td id=\"T_efa65f0e_8739_11e9_a446_f018980bf1dfrow3_col6\" class=\"data row3 col6\" >-0.0023</td> \n",
       "        <td id=\"T_efa65f0e_8739_11e9_a446_f018980bf1dfrow3_col7\" class=\"data row3 col7\" >0.31</td> \n",
       "        <td id=\"T_efa65f0e_8739_11e9_a446_f018980bf1dfrow3_col8\" class=\"data row3 col8\" >0.063</td> \n",
       "        <td id=\"T_efa65f0e_8739_11e9_a446_f018980bf1dfrow3_col9\" class=\"data row3 col9\" >0.036</td> \n",
       "        <td id=\"T_efa65f0e_8739_11e9_a446_f018980bf1dfrow3_col10\" class=\"data row3 col10\" >0.02</td> \n",
       "        <td id=\"T_efa65f0e_8739_11e9_a446_f018980bf1dfrow3_col11\" class=\"data row3 col11\" >0.022</td> \n",
       "    </tr>    <tr> \n",
       "        <th id=\"T_efa65f0e_8739_11e9_a446_f018980bf1dflevel0_row4\" class=\"row_heading level0 row4\" >Occupation</th> \n",
       "        <td id=\"T_efa65f0e_8739_11e9_a446_f018980bf1dfrow4_col0\" class=\"data row4 col0\" >-0.021</td> \n",
       "        <td id=\"T_efa65f0e_8739_11e9_a446_f018980bf1dfrow4_col1\" class=\"data row4 col1\" >0.0081</td> \n",
       "        <td id=\"T_efa65f0e_8739_11e9_a446_f018980bf1dfrow4_col2\" class=\"data row4 col2\" >0.12</td> \n",
       "        <td id=\"T_efa65f0e_8739_11e9_a446_f018980bf1dfrow4_col3\" class=\"data row4 col3\" >0.093</td> \n",
       "        <td id=\"T_efa65f0e_8739_11e9_a446_f018980bf1dfrow4_col4\" class=\"data row4 col4\" >1</td> \n",
       "        <td id=\"T_efa65f0e_8739_11e9_a446_f018980bf1dfrow4_col5\" class=\"data row4 col5\" >0.037</td> \n",
       "        <td id=\"T_efa65f0e_8739_11e9_a446_f018980bf1dfrow4_col6\" class=\"data row4 col6\" >0.03</td> \n",
       "        <td id=\"T_efa65f0e_8739_11e9_a446_f018980bf1dfrow4_col7\" class=\"data row4 col7\" >0.017</td> \n",
       "        <td id=\"T_efa65f0e_8739_11e9_a446_f018980bf1dfrow4_col8\" class=\"data row4 col8\" >-0.016</td> \n",
       "        <td id=\"T_efa65f0e_8739_11e9_a446_f018980bf1dfrow4_col9\" class=\"data row4 col9\" >-0.0076</td> \n",
       "        <td id=\"T_efa65f0e_8739_11e9_a446_f018980bf1dfrow4_col10\" class=\"data row4 col10\" >-0.0064</td> \n",
       "        <td id=\"T_efa65f0e_8739_11e9_a446_f018980bf1dfrow4_col11\" class=\"data row4 col11\" >0.023</td> \n",
       "    </tr>    <tr> \n",
       "        <th id=\"T_efa65f0e_8739_11e9_a446_f018980bf1dflevel0_row5\" class=\"row_heading level0 row5\" >City_Category</th> \n",
       "        <td id=\"T_efa65f0e_8739_11e9_a446_f018980bf1dfrow5_col0\" class=\"data row5 col0\" >0.026</td> \n",
       "        <td id=\"T_efa65f0e_8739_11e9_a446_f018980bf1dfrow5_col1\" class=\"data row5 col1\" >0.00085</td> \n",
       "        <td id=\"T_efa65f0e_8739_11e9_a446_f018980bf1dfrow5_col2\" class=\"data row5 col2\" >-0.004</td> \n",
       "        <td id=\"T_efa65f0e_8739_11e9_a446_f018980bf1dfrow5_col3\" class=\"data row5 col3\" >0.11</td> \n",
       "        <td id=\"T_efa65f0e_8739_11e9_a446_f018980bf1dfrow5_col4\" class=\"data row5 col4\" >0.037</td> \n",
       "        <td id=\"T_efa65f0e_8739_11e9_a446_f018980bf1dfrow5_col5\" class=\"data row5 col5\" >1</td> \n",
       "        <td id=\"T_efa65f0e_8739_11e9_a446_f018980bf1dfrow5_col6\" class=\"data row5 col6\" >0.021</td> \n",
       "        <td id=\"T_efa65f0e_8739_11e9_a446_f018980bf1dfrow5_col7\" class=\"data row5 col7\" >0.04</td> \n",
       "        <td id=\"T_efa65f0e_8739_11e9_a446_f018980bf1dfrow5_col8\" class=\"data row5 col8\" >-0.032</td> \n",
       "        <td id=\"T_efa65f0e_8739_11e9_a446_f018980bf1dfrow5_col9\" class=\"data row5 col9\" >-0.033</td> \n",
       "        <td id=\"T_efa65f0e_8739_11e9_a446_f018980bf1dfrow5_col10\" class=\"data row5 col10\" >-0.034</td> \n",
       "        <td id=\"T_efa65f0e_8739_11e9_a446_f018980bf1dfrow5_col11\" class=\"data row5 col11\" >0.069</td> \n",
       "    </tr>    <tr> \n",
       "        <th id=\"T_efa65f0e_8739_11e9_a446_f018980bf1dflevel0_row6\" class=\"row_heading level0 row6\" >Stay_In_Current_City_Years</th> \n",
       "        <td id=\"T_efa65f0e_8739_11e9_a446_f018980bf1dfrow6_col0\" class=\"data row6 col0\" >-0.03</td> \n",
       "        <td id=\"T_efa65f0e_8739_11e9_a446_f018980bf1dfrow6_col1\" class=\"data row6 col1\" >-0.0018</td> \n",
       "        <td id=\"T_efa65f0e_8739_11e9_a446_f018980bf1dfrow6_col2\" class=\"data row6 col2\" >0.014</td> \n",
       "        <td id=\"T_efa65f0e_8739_11e9_a446_f018980bf1dfrow6_col3\" class=\"data row6 col3\" >-0.0023</td> \n",
       "        <td id=\"T_efa65f0e_8739_11e9_a446_f018980bf1dfrow6_col4\" class=\"data row6 col4\" >0.03</td> \n",
       "        <td id=\"T_efa65f0e_8739_11e9_a446_f018980bf1dfrow6_col5\" class=\"data row6 col5\" >0.021</td> \n",
       "        <td id=\"T_efa65f0e_8739_11e9_a446_f018980bf1dfrow6_col6\" class=\"data row6 col6\" >1</td> \n",
       "        <td id=\"T_efa65f0e_8739_11e9_a446_f018980bf1dfrow6_col7\" class=\"data row6 col7\" >-0.013</td> \n",
       "        <td id=\"T_efa65f0e_8739_11e9_a446_f018980bf1dfrow6_col8\" class=\"data row6 col8\" >-0.0058</td> \n",
       "        <td id=\"T_efa65f0e_8739_11e9_a446_f018980bf1dfrow6_col9\" class=\"data row6 col9\" >-0.0043</td> \n",
       "        <td id=\"T_efa65f0e_8739_11e9_a446_f018980bf1dfrow6_col10\" class=\"data row6 col10\" >-0.00087</td> \n",
       "        <td id=\"T_efa65f0e_8739_11e9_a446_f018980bf1dfrow6_col11\" class=\"data row6 col11\" >0.006</td> \n",
       "    </tr>    <tr> \n",
       "        <th id=\"T_efa65f0e_8739_11e9_a446_f018980bf1dflevel0_row7\" class=\"row_heading level0 row7\" >Marital_Status</th> \n",
       "        <td id=\"T_efa65f0e_8739_11e9_a446_f018980bf1dfrow7_col0\" class=\"data row7 col0\" >0.019</td> \n",
       "        <td id=\"T_efa65f0e_8739_11e9_a446_f018980bf1dfrow7_col1\" class=\"data row7 col1\" >0.011</td> \n",
       "        <td id=\"T_efa65f0e_8739_11e9_a446_f018980bf1dfrow7_col2\" class=\"data row7 col2\" >-0.01</td> \n",
       "        <td id=\"T_efa65f0e_8739_11e9_a446_f018980bf1dfrow7_col3\" class=\"data row7 col3\" >0.31</td> \n",
       "        <td id=\"T_efa65f0e_8739_11e9_a446_f018980bf1dfrow7_col4\" class=\"data row7 col4\" >0.017</td> \n",
       "        <td id=\"T_efa65f0e_8739_11e9_a446_f018980bf1dfrow7_col5\" class=\"data row7 col5\" >0.04</td> \n",
       "        <td id=\"T_efa65f0e_8739_11e9_a446_f018980bf1dfrow7_col6\" class=\"data row7 col6\" >-0.013</td> \n",
       "        <td id=\"T_efa65f0e_8739_11e9_a446_f018980bf1dfrow7_col7\" class=\"data row7 col7\" >1</td> \n",
       "        <td id=\"T_efa65f0e_8739_11e9_a446_f018980bf1dfrow7_col8\" class=\"data row7 col8\" >0.021</td> \n",
       "        <td id=\"T_efa65f0e_8739_11e9_a446_f018980bf1dfrow7_col9\" class=\"data row7 col9\" >0.014</td> \n",
       "        <td id=\"T_efa65f0e_8739_11e9_a446_f018980bf1dfrow7_col10\" class=\"data row7 col10\" >0.011</td> \n",
       "        <td id=\"T_efa65f0e_8739_11e9_a446_f018980bf1dfrow7_col11\" class=\"data row7 col11\" >0.0018</td> \n",
       "    </tr>    <tr> \n",
       "        <th id=\"T_efa65f0e_8739_11e9_a446_f018980bf1dflevel0_row8\" class=\"row_heading level0 row8\" >Product_Category_1</th> \n",
       "        <td id=\"T_efa65f0e_8739_11e9_a446_f018980bf1dfrow8_col0\" class=\"data row8 col0\" >0.0024</td> \n",
       "        <td id=\"T_efa65f0e_8739_11e9_a446_f018980bf1dfrow8_col1\" class=\"data row8 col1\" >0.0098</td> \n",
       "        <td id=\"T_efa65f0e_8739_11e9_a446_f018980bf1dfrow8_col2\" class=\"data row8 col2\" >-0.063</td> \n",
       "        <td id=\"T_efa65f0e_8739_11e9_a446_f018980bf1dfrow8_col3\" class=\"data row8 col3\" >0.063</td> \n",
       "        <td id=\"T_efa65f0e_8739_11e9_a446_f018980bf1dfrow8_col4\" class=\"data row8 col4\" >-0.016</td> \n",
       "        <td id=\"T_efa65f0e_8739_11e9_a446_f018980bf1dfrow8_col5\" class=\"data row8 col5\" >-0.032</td> \n",
       "        <td id=\"T_efa65f0e_8739_11e9_a446_f018980bf1dfrow8_col6\" class=\"data row8 col6\" >-0.0058</td> \n",
       "        <td id=\"T_efa65f0e_8739_11e9_a446_f018980bf1dfrow8_col7\" class=\"data row8 col7\" >0.021</td> \n",
       "        <td id=\"T_efa65f0e_8739_11e9_a446_f018980bf1dfrow8_col8\" class=\"data row8 col8\" >1</td> \n",
       "        <td id=\"T_efa65f0e_8739_11e9_a446_f018980bf1dfrow8_col9\" class=\"data row8 col9\" >0.58</td> \n",
       "        <td id=\"T_efa65f0e_8739_11e9_a446_f018980bf1dfrow8_col10\" class=\"data row8 col10\" >0.41</td> \n",
       "        <td id=\"T_efa65f0e_8739_11e9_a446_f018980bf1dfrow8_col11\" class=\"data row8 col11\" >-0.37</td> \n",
       "    </tr>    <tr> \n",
       "        <th id=\"T_efa65f0e_8739_11e9_a446_f018980bf1dflevel0_row9\" class=\"row_heading level0 row9\" >Product_Category_2</th> \n",
       "        <td id=\"T_efa65f0e_8739_11e9_a446_f018980bf1dfrow9_col0\" class=\"data row9 col0\" >0.0014</td> \n",
       "        <td id=\"T_efa65f0e_8739_11e9_a446_f018980bf1dfrow9_col1\" class=\"data row9 col1\" >0.1</td> \n",
       "        <td id=\"T_efa65f0e_8739_11e9_a446_f018980bf1dfrow9_col2\" class=\"data row9 col2\" >-0.012</td> \n",
       "        <td id=\"T_efa65f0e_8739_11e9_a446_f018980bf1dfrow9_col3\" class=\"data row9 col3\" >0.036</td> \n",
       "        <td id=\"T_efa65f0e_8739_11e9_a446_f018980bf1dfrow9_col4\" class=\"data row9 col4\" >-0.0076</td> \n",
       "        <td id=\"T_efa65f0e_8739_11e9_a446_f018980bf1dfrow9_col5\" class=\"data row9 col5\" >-0.033</td> \n",
       "        <td id=\"T_efa65f0e_8739_11e9_a446_f018980bf1dfrow9_col6\" class=\"data row9 col6\" >-0.0043</td> \n",
       "        <td id=\"T_efa65f0e_8739_11e9_a446_f018980bf1dfrow9_col7\" class=\"data row9 col7\" >0.014</td> \n",
       "        <td id=\"T_efa65f0e_8739_11e9_a446_f018980bf1dfrow9_col8\" class=\"data row9 col8\" >0.58</td> \n",
       "        <td id=\"T_efa65f0e_8739_11e9_a446_f018980bf1dfrow9_col9\" class=\"data row9 col9\" >1</td> \n",
       "        <td id=\"T_efa65f0e_8739_11e9_a446_f018980bf1dfrow9_col10\" class=\"data row9 col10\" >0.53</td> \n",
       "        <td id=\"T_efa65f0e_8739_11e9_a446_f018980bf1dfrow9_col11\" class=\"data row9 col11\" >-0.27</td> \n",
       "    </tr>    <tr> \n",
       "        <th id=\"T_efa65f0e_8739_11e9_a446_f018980bf1dflevel0_row10\" class=\"row_heading level0 row10\" >Product_Category_3</th> \n",
       "        <td id=\"T_efa65f0e_8739_11e9_a446_f018980bf1dfrow10_col0\" class=\"data row10 col0\" >-0.026</td> \n",
       "        <td id=\"T_efa65f0e_8739_11e9_a446_f018980bf1dfrow10_col1\" class=\"data row10 col1\" >0.12</td> \n",
       "        <td id=\"T_efa65f0e_8739_11e9_a446_f018980bf1dfrow10_col2\" class=\"data row10 col2\" >-0.024</td> \n",
       "        <td id=\"T_efa65f0e_8739_11e9_a446_f018980bf1dfrow10_col3\" class=\"data row10 col3\" >0.02</td> \n",
       "        <td id=\"T_efa65f0e_8739_11e9_a446_f018980bf1dfrow10_col4\" class=\"data row10 col4\" >-0.0064</td> \n",
       "        <td id=\"T_efa65f0e_8739_11e9_a446_f018980bf1dfrow10_col5\" class=\"data row10 col5\" >-0.034</td> \n",
       "        <td id=\"T_efa65f0e_8739_11e9_a446_f018980bf1dfrow10_col6\" class=\"data row10 col6\" >-0.00087</td> \n",
       "        <td id=\"T_efa65f0e_8739_11e9_a446_f018980bf1dfrow10_col7\" class=\"data row10 col7\" >0.011</td> \n",
       "        <td id=\"T_efa65f0e_8739_11e9_a446_f018980bf1dfrow10_col8\" class=\"data row10 col8\" >0.41</td> \n",
       "        <td id=\"T_efa65f0e_8739_11e9_a446_f018980bf1dfrow10_col9\" class=\"data row10 col9\" >0.53</td> \n",
       "        <td id=\"T_efa65f0e_8739_11e9_a446_f018980bf1dfrow10_col10\" class=\"data row10 col10\" >1</td> \n",
       "        <td id=\"T_efa65f0e_8739_11e9_a446_f018980bf1dfrow10_col11\" class=\"data row10 col11\" >-0.25</td> \n",
       "    </tr>    <tr> \n",
       "        <th id=\"T_efa65f0e_8739_11e9_a446_f018980bf1dflevel0_row11\" class=\"row_heading level0 row11\" >Purchase</th> \n",
       "        <td id=\"T_efa65f0e_8739_11e9_a446_f018980bf1dfrow11_col0\" class=\"data row11 col0\" >0.0043</td> \n",
       "        <td id=\"T_efa65f0e_8739_11e9_a446_f018980bf1dfrow11_col1\" class=\"data row11 col1\" >-0.081</td> \n",
       "        <td id=\"T_efa65f0e_8739_11e9_a446_f018980bf1dfrow11_col2\" class=\"data row11 col2\" >0.054</td> \n",
       "        <td id=\"T_efa65f0e_8739_11e9_a446_f018980bf1dfrow11_col3\" class=\"data row11 col3\" >0.022</td> \n",
       "        <td id=\"T_efa65f0e_8739_11e9_a446_f018980bf1dfrow11_col4\" class=\"data row11 col4\" >0.023</td> \n",
       "        <td id=\"T_efa65f0e_8739_11e9_a446_f018980bf1dfrow11_col5\" class=\"data row11 col5\" >0.069</td> \n",
       "        <td id=\"T_efa65f0e_8739_11e9_a446_f018980bf1dfrow11_col6\" class=\"data row11 col6\" >0.006</td> \n",
       "        <td id=\"T_efa65f0e_8739_11e9_a446_f018980bf1dfrow11_col7\" class=\"data row11 col7\" >0.0018</td> \n",
       "        <td id=\"T_efa65f0e_8739_11e9_a446_f018980bf1dfrow11_col8\" class=\"data row11 col8\" >-0.37</td> \n",
       "        <td id=\"T_efa65f0e_8739_11e9_a446_f018980bf1dfrow11_col9\" class=\"data row11 col9\" >-0.27</td> \n",
       "        <td id=\"T_efa65f0e_8739_11e9_a446_f018980bf1dfrow11_col10\" class=\"data row11 col10\" >-0.25</td> \n",
       "        <td id=\"T_efa65f0e_8739_11e9_a446_f018980bf1dfrow11_col11\" class=\"data row11 col11\" >1</td> \n",
       "    </tr></tbody> \n",
       "</table> "
      ],
      "text/plain": [
       "<pandas.io.formats.style.Styler at 0x1a19523ba8>"
      ]
     },
     "execution_count": 15,
     "metadata": {},
     "output_type": "execute_result"
    }
   ],
   "source": [
    "from sklearn.preprocessing import LabelEncoder\n",
    "\n",
    "# using numerical results for correlation matrix\n",
    "st = df.apply(LabelEncoder().fit_transform)\n",
    "\n",
    "# the corr() method automatically ignores null values \n",
    "st.corr(method = 'spearman').style.background_gradient(cmap = 'GnBu').set_precision(2)"
   ]
  },
  {
   "cell_type": "markdown",
   "metadata": {},
   "source": [
    "# Observation from above correlation table"
   ]
  },
  {
   "cell_type": "markdown",
   "metadata": {},
   "source": [
    "We notice that the highest correlations occur between the product categories and the purchase price which we are trying to predict.\n",
    "\n",
    "Let's explore the data some more and look at different distributions.\n",
    "\n"
   ]
  },
  {
   "cell_type": "code",
   "execution_count": 16,
   "metadata": {},
   "outputs": [
    {
     "data": {
      "image/png": "[encoded data removed]",
      "text/plain": [
       "<Figure size 720x576 with 1 Axes>"
      ]
     },
     "metadata": {
      "needs_background": "light"
     },
     "output_type": "display_data"
    }
   ],
   "source": [
    "plt.figure(figsize=(10,8))\n",
    "df['Purchase'].plot.hist(bins=12, alpha=0.5);\n",
    "plt.xlabel('Dollar amount');\n",
    "plt.ylabel('Number of buyers');\n",
    "plt.title('Total Purchase Distribution');\n",
    "plt.show()"
   ]
  },
  {
   "cell_type": "code",
   "execution_count": 17,
   "metadata": {},
   "outputs": [],
   "source": [
    "# the large amount of customers are willing to spend around 7.5k in average on Black Friday."
   ]
  },
  {
   "cell_type": "markdown",
   "metadata": {},
   "source": [
    "Now we are going to plot the bargraph and pie chart for different occupations and the count for people"
   ]
  },
  {
   "cell_type": "code",
   "execution_count": 18,
   "metadata": {},
   "outputs": [
    {
     "data": {
      "image/png": "[encoded data removed]",
      "text/plain": [
       "<Figure size 1440x576 with 2 Axes>"
      ]
     },
     "metadata": {
      "needs_background": "light"
     },
     "output_type": "display_data"
    }
   ],
   "source": [
    "plt.figure(figsize=(20,8))\n",
    "\n",
    "plt.subplot(121)\n",
    "pd.value_counts(df['Occupation']).plot.bar();\n",
    "plt.xlabel('Occupation Type');\n",
    "plt.ylabel('Count');\n",
    "plt.title('Distribution of different occupations')\n",
    "\n",
    "plt.subplot(122)\n",
    "pd.value_counts(df['Occupation']).plot.pie(autopct='%.2f');\n",
    "plt.xlabel('');\n",
    "plt.ylabel('');\n",
    "plt.title('Pie chart of different occupations')\n",
    "plt.show()"
   ]
  },
  {
   "cell_type": "markdown",
   "metadata": {},
   "source": [
    "# OBSERVSTION: we notice that certain occupation have more purchasing power than rest."
   ]
  },
  {
   "cell_type": "markdown",
   "metadata": {},
   "source": [
    "# Distribution of city categories of buyers"
   ]
  },
  {
   "cell_type": "code",
   "execution_count": 19,
   "metadata": {},
   "outputs": [
    {
     "data": {
      "image/png": "[encoded data removed]",
      "text/plain": [
       "<Figure size 720x288 with 2 Axes>"
      ]
     },
     "metadata": {
      "needs_background": "light"
     },
     "output_type": "display_data"
    }
   ],
   "source": [
    "plt.figure(figsize=(10,4))\n",
    "\n",
    "plt.subplot(121)\n",
    "pd.value_counts(df['City_Category']).plot.bar();\n",
    "plt.xlabel('City Category');\n",
    "plt.ylabel('Count');\n",
    "plt.title('Distribution of city categories of buyers')\n",
    "\n",
    "plt.subplot(122)\n",
    "pd.value_counts(df['City_Category']).plot.pie(autopct='%.2f');\n",
    "plt.xlabel('');\n",
    "plt.ylabel('');\n",
    "plt.title('Pie chart of city categories of buyers')\n",
    "plt.show()"
   ]
  },
  {
   "cell_type": "markdown",
   "metadata": {},
   "source": [
    "# OBSERVATION: City category B has the highest number of buyers on a Black Friday"
   ]
  },
  {
   "cell_type": "markdown",
   "metadata": {},
   "source": [
    "# Distribution of gender of buyers"
   ]
  },
  {
   "cell_type": "code",
   "execution_count": 20,
   "metadata": {},
   "outputs": [
    {
     "data": {
      "image/png": "[encoded data removed]",
      "text/plain": [
       "<Figure size 720x288 with 2 Axes>"
      ]
     },
     "metadata": {
      "needs_background": "light"
     },
     "output_type": "display_data"
    }
   ],
   "source": [
    "plt.figure(figsize=(10,4))\n",
    "\n",
    "plt.subplot(121)\n",
    "pd.value_counts(df['Gender']).plot.bar();\n",
    "plt.xlabel('Gender');\n",
    "plt.ylabel('Count');\n",
    "plt.title('Distribution of gender of buyers')\n",
    "\n",
    "plt.subplot(122)\n",
    "pd.value_counts(df['Gender']).plot.pie(autopct='%.2f');\n",
    "plt.xlabel('');\n",
    "plt.ylabel('');\n",
    "plt.title('Pie chart of gender of buyers')\n",
    "plt.show()"
   ]
  },
  {
   "cell_type": "markdown",
   "metadata": {},
   "source": [
    "# OBSERVATION: It appears that there are more male buyers on Black Friday"
   ]
  },
  {
   "cell_type": "markdown",
   "metadata": {},
   "source": [
    "# Distrubution of age groups of buyers"
   ]
  },
  {
   "cell_type": "code",
   "execution_count": 21,
   "metadata": {},
   "outputs": [
    {
     "data": {
      "image/png": "[encoded data removed]",
      "text/plain": [
       "<Figure size 720x288 with 2 Axes>"
      ]
     },
     "metadata": {
      "needs_background": "light"
     },
     "output_type": "display_data"
    }
   ],
   "source": [
    "plt.figure(figsize=(10,4))\n",
    "\n",
    "plt.subplot(121)\n",
    "pd.value_counts(df['Age']).plot.bar();\n",
    "plt.xlabel('Age Group');\n",
    "plt.ylabel('Count');\n",
    "plt.title('Distribution of age groups of buyers')\n",
    "\n",
    "plt.subplot(122)\n",
    "pd.value_counts(df['Age']).plot.pie(autopct='%.2f');\n",
    "plt.xlabel('');\n",
    "plt.ylabel('');\n",
    "plt.title('Pie chart of age groups of buyers')\n",
    "plt.show()"
   ]
  },
  {
   "cell_type": "markdown",
   "metadata": {},
   "source": [
    "# OBSERVATION: The majority of buyers are between the ages of 26-35 and goes down per age group\n",
    "\n"
   ]
  },
  {
   "cell_type": "code",
   "execution_count": 22,
   "metadata": {},
   "outputs": [],
   "source": [
    "# BOXPLOT graphing"
   ]
  },
  {
   "cell_type": "code",
   "execution_count": 23,
   "metadata": {},
   "outputs": [
    {
     "data": {
      "image/png": "[encoded data removed]",
      "text/plain": [
       "<Figure size 432x288 with 1 Axes>"
      ]
     },
     "metadata": {
      "needs_background": "light"
     },
     "output_type": "display_data"
    }
   ],
   "source": [
    "sns.boxplot('Age','Purchase', data = df)\n",
    "plt.show()"
   ]
  },
  {
   "cell_type": "markdown",
   "metadata": {},
   "source": [
    "# Distribution of Marital Status of buyers "
   ]
  },
  {
   "cell_type": "code",
   "execution_count": 24,
   "metadata": {},
   "outputs": [
    {
     "data": {
      "image/png": "[encoded data removed]",
      "text/plain": [
       "<Figure size 720x288 with 2 Axes>"
      ]
     },
     "metadata": {
      "needs_background": "light"
     },
     "output_type": "display_data"
    }
   ],
   "source": [
    "\n",
    "plt.figure(figsize=(10,4))\n",
    "\n",
    "plt.subplot(121)\n",
    "pd.value_counts(df['Marital_Status']).plot.bar();\n",
    "plt.xlabel('Marital Status');\n",
    "plt.ylabel('Count');\n",
    "plt.title('Distribution of Marital Status of buyers\\n 0 = Single, 1 = Married')\n",
    "\n",
    "plt.subplot(122)\n",
    "pd.value_counts(df['Marital_Status']).plot.pie(autopct='%.2f');\n",
    "plt.xlabel('');\n",
    "plt.ylabel('');\n",
    "plt.title('Pie chart of Marital Status of buyers')\n",
    "plt.show()"
   ]
  },
  {
   "cell_type": "markdown",
   "metadata": {},
   "source": [
    "# OIBSERVATION:  Singles form a slightly larger majority of the buyers"
   ]
  },
  {
   "cell_type": "markdown",
   "metadata": {},
   "source": [
    "# Data Cleaning"
   ]
  },
  {
   "cell_type": "code",
   "execution_count": 25,
   "metadata": {},
   "outputs": [],
   "source": [
    "# We will clean up the dataset by removing unnecessary columns and dealing with missing values."
   ]
  },
  {
   "cell_type": "code",
   "execution_count": 26,
   "metadata": {},
   "outputs": [],
   "source": [
    "# these columns are unnecessary for my regression analysis\n",
    "\n",
    "df = df.drop(columns = ['User_ID', 'Product_ID'])"
   ]
  },
  {
   "cell_type": "markdown",
   "metadata": {},
   "source": [
    "# Check for missing values"
   ]
  },
  {
   "cell_type": "code",
   "execution_count": 27,
   "metadata": {},
   "outputs": [
    {
     "name": "stdout",
     "output_type": "stream",
     "text": [
      "Product_Category_3    69.441029\n",
      "Product_Category_2    31.062713\n",
      "dtype: float64 %\n"
     ]
    }
   ],
   "source": [
    "missing_values = df.isnull().sum().sort_values(ascending = False)\n",
    "missing_values = missing_values[missing_values > 0]/df.shape[0]\n",
    "print(f'{missing_values *100} %')"
   ]
  },
  {
   "cell_type": "markdown",
   "metadata": {},
   "source": [
    "# Since both of these columns contain numerical data, I will use Imputer on both of them to replace missing values with the mean value for each column"
   ]
  },
  {
   "cell_type": "code",
   "execution_count": 28,
   "metadata": {},
   "outputs": [
    {
     "name": "stderr",
     "output_type": "stream",
     "text": [
      "/anaconda3/lib/python3.7/site-packages/sklearn/utils/deprecation.py:58: DeprecationWarning: Class Imputer is deprecated; Imputer was deprecated in version 0.20 and will be removed in 0.22. Import impute.SimpleImputer from sklearn instead.\n",
      "  warnings.warn(msg, category=DeprecationWarning)\n"
     ]
    },
    {
     "data": {
      "text/html": [
       "<div>\n",
       "<style scoped>\n",
       "    .dataframe tbody tr th:only-of-type {\n",
       "        vertical-align: middle;\n",
       "    }\n",
       "\n",
       "    .dataframe tbody tr th {\n",
       "        vertical-align: top;\n",
       "    }\n",
       "\n",
       "    .dataframe thead th {\n",
       "        text-align: right;\n",
       "    }\n",
       "</style>\n",
       "<table border=\"1\" class=\"dataframe\">\n",
       "  <thead>\n",
       "    <tr style=\"text-align: right;\">\n",
       "      <th></th>\n",
       "      <th>Product_Category_2</th>\n",
       "      <th>Product_Category_3</th>\n",
       "    </tr>\n",
       "  </thead>\n",
       "  <tbody>\n",
       "    <tr>\n",
       "      <th>0</th>\n",
       "      <td>9.842144</td>\n",
       "      <td>12.66984</td>\n",
       "    </tr>\n",
       "    <tr>\n",
       "      <th>1</th>\n",
       "      <td>6.000000</td>\n",
       "      <td>14.00000</td>\n",
       "    </tr>\n",
       "    <tr>\n",
       "      <th>2</th>\n",
       "      <td>9.842144</td>\n",
       "      <td>12.66984</td>\n",
       "    </tr>\n",
       "    <tr>\n",
       "      <th>3</th>\n",
       "      <td>14.000000</td>\n",
       "      <td>12.66984</td>\n",
       "    </tr>\n",
       "    <tr>\n",
       "      <th>4</th>\n",
       "      <td>9.842144</td>\n",
       "      <td>12.66984</td>\n",
       "    </tr>\n",
       "  </tbody>\n",
       "</table>\n",
       "</div>"
      ],
      "text/plain": [
       "   Product_Category_2  Product_Category_3\n",
       "0            9.842144            12.66984\n",
       "1            6.000000            14.00000\n",
       "2            9.842144            12.66984\n",
       "3           14.000000            12.66984\n",
       "4            9.842144            12.66984"
      ]
     },
     "execution_count": 28,
     "metadata": {},
     "output_type": "execute_result"
    }
   ],
   "source": [
    "from sklearn.preprocessing import Imputer\n",
    "\n",
    "df[['Product_Category_2', 'Product_Category_3']] = Imputer(strategy='mean').fit_transform(df[['Product_Category_2', 'Product_Category_3']]\n",
    ")\n",
    "\n",
    "df[['Product_Category_2', 'Product_Category_3']].head()"
   ]
  },
  {
   "cell_type": "code",
   "execution_count": 29,
   "metadata": {},
   "outputs": [
    {
     "name": "stdout",
     "output_type": "stream",
     "text": [
      "Series([], dtype: float64) %\n"
     ]
    }
   ],
   "source": [
    "missing_values = df.isnull().sum().sort_values(ascending = False)\n",
    "missing_values = missing_values[missing_values > 0]/df.shape[0]\n",
    "print(f'{missing_values *100} %')"
   ]
  },
  {
   "cell_type": "code",
   "execution_count": 30,
   "metadata": {},
   "outputs": [],
   "source": [
    "# There is no more missing values"
   ]
  },
  {
   "cell_type": "markdown",
   "metadata": {},
   "source": [
    "# Now let's convert strings into numerical fields"
   ]
  },
  {
   "cell_type": "code",
   "execution_count": 31,
   "metadata": {},
   "outputs": [
    {
     "data": {
      "text/plain": [
       "Gender                         object\n",
       "Age                            object\n",
       "Occupation                      int64\n",
       "City_Category                  object\n",
       "Stay_In_Current_City_Years     object\n",
       "Marital_Status                  int64\n",
       "Product_Category_1              int64\n",
       "Product_Category_2            float64\n",
       "Product_Category_3            float64\n",
       "Purchase                        int64\n",
       "dtype: object"
      ]
     },
     "execution_count": 31,
     "metadata": {},
     "output_type": "execute_result"
    }
   ],
   "source": [
    "df.dtypes"
   ]
  },
  {
   "cell_type": "markdown",
   "metadata": {},
   "source": [
    "# Using get_dummies we can convert str fields into float or int"
   ]
  },
  {
   "cell_type": "code",
   "execution_count": 32,
   "metadata": {},
   "outputs": [
    {
     "data": {
      "text/html": [
       "<div>\n",
       "<style scoped>\n",
       "    .dataframe tbody tr th:only-of-type {\n",
       "        vertical-align: middle;\n",
       "    }\n",
       "\n",
       "    .dataframe tbody tr th {\n",
       "        vertical-align: top;\n",
       "    }\n",
       "\n",
       "    .dataframe thead th {\n",
       "        text-align: right;\n",
       "    }\n",
       "</style>\n",
       "<table border=\"1\" class=\"dataframe\">\n",
       "  <thead>\n",
       "    <tr style=\"text-align: right;\">\n",
       "      <th></th>\n",
       "      <th>Occupation</th>\n",
       "      <th>Marital_Status</th>\n",
       "      <th>Product_Category_1</th>\n",
       "      <th>Product_Category_2</th>\n",
       "      <th>Product_Category_3</th>\n",
       "      <th>Purchase</th>\n",
       "      <th>Gender_F</th>\n",
       "      <th>Gender_M</th>\n",
       "      <th>Age_0-17</th>\n",
       "      <th>Age_18-25</th>\n",
       "      <th>...</th>\n",
       "      <th>Age_51-55</th>\n",
       "      <th>Age_55+</th>\n",
       "      <th>City_Category_A</th>\n",
       "      <th>City_Category_B</th>\n",
       "      <th>City_Category_C</th>\n",
       "      <th>Stay_In_Current_City_Years_0</th>\n",
       "      <th>Stay_In_Current_City_Years_1</th>\n",
       "      <th>Stay_In_Current_City_Years_2</th>\n",
       "      <th>Stay_In_Current_City_Years_3</th>\n",
       "      <th>Stay_In_Current_City_Years_4+</th>\n",
       "    </tr>\n",
       "  </thead>\n",
       "  <tbody>\n",
       "    <tr>\n",
       "      <th>0</th>\n",
       "      <td>10.0</td>\n",
       "      <td>0.0</td>\n",
       "      <td>3.0</td>\n",
       "      <td>9.842144</td>\n",
       "      <td>12.66984</td>\n",
       "      <td>8370.0</td>\n",
       "      <td>1</td>\n",
       "      <td>0</td>\n",
       "      <td>1</td>\n",
       "      <td>0</td>\n",
       "      <td>...</td>\n",
       "      <td>0</td>\n",
       "      <td>0</td>\n",
       "      <td>1</td>\n",
       "      <td>0</td>\n",
       "      <td>0</td>\n",
       "      <td>0</td>\n",
       "      <td>0</td>\n",
       "      <td>1</td>\n",
       "      <td>0</td>\n",
       "      <td>0</td>\n",
       "    </tr>\n",
       "    <tr>\n",
       "      <th>1</th>\n",
       "      <td>10.0</td>\n",
       "      <td>0.0</td>\n",
       "      <td>1.0</td>\n",
       "      <td>6.000000</td>\n",
       "      <td>14.00000</td>\n",
       "      <td>15200.0</td>\n",
       "      <td>1</td>\n",
       "      <td>0</td>\n",
       "      <td>1</td>\n",
       "      <td>0</td>\n",
       "      <td>...</td>\n",
       "      <td>0</td>\n",
       "      <td>0</td>\n",
       "      <td>1</td>\n",
       "      <td>0</td>\n",
       "      <td>0</td>\n",
       "      <td>0</td>\n",
       "      <td>0</td>\n",
       "      <td>1</td>\n",
       "      <td>0</td>\n",
       "      <td>0</td>\n",
       "    </tr>\n",
       "    <tr>\n",
       "      <th>2</th>\n",
       "      <td>10.0</td>\n",
       "      <td>0.0</td>\n",
       "      <td>12.0</td>\n",
       "      <td>9.842144</td>\n",
       "      <td>12.66984</td>\n",
       "      <td>1422.0</td>\n",
       "      <td>1</td>\n",
       "      <td>0</td>\n",
       "      <td>1</td>\n",
       "      <td>0</td>\n",
       "      <td>...</td>\n",
       "      <td>0</td>\n",
       "      <td>0</td>\n",
       "      <td>1</td>\n",
       "      <td>0</td>\n",
       "      <td>0</td>\n",
       "      <td>0</td>\n",
       "      <td>0</td>\n",
       "      <td>1</td>\n",
       "      <td>0</td>\n",
       "      <td>0</td>\n",
       "    </tr>\n",
       "    <tr>\n",
       "      <th>3</th>\n",
       "      <td>10.0</td>\n",
       "      <td>0.0</td>\n",
       "      <td>12.0</td>\n",
       "      <td>14.000000</td>\n",
       "      <td>12.66984</td>\n",
       "      <td>1057.0</td>\n",
       "      <td>1</td>\n",
       "      <td>0</td>\n",
       "      <td>1</td>\n",
       "      <td>0</td>\n",
       "      <td>...</td>\n",
       "      <td>0</td>\n",
       "      <td>0</td>\n",
       "      <td>1</td>\n",
       "      <td>0</td>\n",
       "      <td>0</td>\n",
       "      <td>0</td>\n",
       "      <td>0</td>\n",
       "      <td>1</td>\n",
       "      <td>0</td>\n",
       "      <td>0</td>\n",
       "    </tr>\n",
       "    <tr>\n",
       "      <th>4</th>\n",
       "      <td>16.0</td>\n",
       "      <td>0.0</td>\n",
       "      <td>8.0</td>\n",
       "      <td>9.842144</td>\n",
       "      <td>12.66984</td>\n",
       "      <td>7969.0</td>\n",
       "      <td>0</td>\n",
       "      <td>1</td>\n",
       "      <td>0</td>\n",
       "      <td>0</td>\n",
       "      <td>...</td>\n",
       "      <td>0</td>\n",
       "      <td>1</td>\n",
       "      <td>0</td>\n",
       "      <td>0</td>\n",
       "      <td>1</td>\n",
       "      <td>0</td>\n",
       "      <td>0</td>\n",
       "      <td>0</td>\n",
       "      <td>0</td>\n",
       "      <td>1</td>\n",
       "    </tr>\n",
       "  </tbody>\n",
       "</table>\n",
       "<p>5 rows × 23 columns</p>\n",
       "</div>"
      ],
      "text/plain": [
       "   Occupation  Marital_Status  Product_Category_1  Product_Category_2  \\\n",
       "0        10.0             0.0                 3.0            9.842144   \n",
       "1        10.0             0.0                 1.0            6.000000   \n",
       "2        10.0             0.0                12.0            9.842144   \n",
       "3        10.0             0.0                12.0           14.000000   \n",
       "4        16.0             0.0                 8.0            9.842144   \n",
       "\n",
       "   Product_Category_3  Purchase  Gender_F  Gender_M  Age_0-17  Age_18-25  \\\n",
       "0            12.66984    8370.0         1         0         1          0   \n",
       "1            14.00000   15200.0         1         0         1          0   \n",
       "2            12.66984    1422.0         1         0         1          0   \n",
       "3            12.66984    1057.0         1         0         1          0   \n",
       "4            12.66984    7969.0         0         1         0          0   \n",
       "\n",
       "               ...                Age_51-55  Age_55+  City_Category_A  \\\n",
       "0              ...                        0        0                1   \n",
       "1              ...                        0        0                1   \n",
       "2              ...                        0        0                1   \n",
       "3              ...                        0        0                1   \n",
       "4              ...                        0        1                0   \n",
       "\n",
       "   City_Category_B  City_Category_C  Stay_In_Current_City_Years_0  \\\n",
       "0                0                0                             0   \n",
       "1                0                0                             0   \n",
       "2                0                0                             0   \n",
       "3                0                0                             0   \n",
       "4                0                1                             0   \n",
       "\n",
       "   Stay_In_Current_City_Years_1  Stay_In_Current_City_Years_2  \\\n",
       "0                             0                             1   \n",
       "1                             0                             1   \n",
       "2                             0                             1   \n",
       "3                             0                             1   \n",
       "4                             0                             0   \n",
       "\n",
       "   Stay_In_Current_City_Years_3  Stay_In_Current_City_Years_4+  \n",
       "0                             0                              0  \n",
       "1                             0                              0  \n",
       "2                             0                              0  \n",
       "3                             0                              0  \n",
       "4                             0                              1  \n",
       "\n",
       "[5 rows x 23 columns]"
      ]
     },
     "execution_count": 32,
     "metadata": {},
     "output_type": "execute_result"
    }
   ],
   "source": [
    "# first convert these int columns to float before using get_dummies to prevent it from transforming them\n",
    "cols = ['Occupation', 'Marital_Status', 'Product_Category_1', 'Purchase']\n",
    "df[cols] = df[cols].astype(float)\n",
    "\n",
    "\n",
    "# apply get_dummies\n",
    "df = pd.get_dummies(df)\n",
    "\n",
    "df.head()"
   ]
  },
  {
   "cell_type": "code",
   "execution_count": 33,
   "metadata": {},
   "outputs": [
    {
     "data": {
      "text/plain": [
       "Occupation                       float64\n",
       "Marital_Status                   float64\n",
       "Product_Category_1               float64\n",
       "Product_Category_2               float64\n",
       "Product_Category_3               float64\n",
       "Purchase                         float64\n",
       "Gender_F                           uint8\n",
       "Gender_M                           uint8\n",
       "Age_0-17                           uint8\n",
       "Age_18-25                          uint8\n",
       "Age_26-35                          uint8\n",
       "Age_36-45                          uint8\n",
       "Age_46-50                          uint8\n",
       "Age_51-55                          uint8\n",
       "Age_55+                            uint8\n",
       "City_Category_A                    uint8\n",
       "City_Category_B                    uint8\n",
       "City_Category_C                    uint8\n",
       "Stay_In_Current_City_Years_0       uint8\n",
       "Stay_In_Current_City_Years_1       uint8\n",
       "Stay_In_Current_City_Years_2       uint8\n",
       "Stay_In_Current_City_Years_3       uint8\n",
       "Stay_In_Current_City_Years_4+      uint8\n",
       "dtype: object"
      ]
     },
     "execution_count": 33,
     "metadata": {},
     "output_type": "execute_result"
    }
   ],
   "source": [
    "df.dtypes"
   ]
  },
  {
   "cell_type": "code",
   "execution_count": 34,
   "metadata": {},
   "outputs": [],
   "source": [
    "# Now we can see we changed the categories to float and we have everything in numerical values\n"
   ]
  },
  {
   "cell_type": "code",
   "execution_count": 35,
   "metadata": {},
   "outputs": [],
   "source": [
    "# Create separate object for target variable\n",
    "y = df.Purchase\n",
    "# Create separate object for input features\n",
    "X = df.drop('Purchase', axis=1)"
   ]
  },
  {
   "cell_type": "code",
   "execution_count": 36,
   "metadata": {},
   "outputs": [],
   "source": [
    "# Split X and y into train and test sets: 80-20\n",
    "X_train, X_test, y_train, y_test = train_test_split(X, y, test_size=0.2, random_state=1234)"
   ]
  },
  {
   "cell_type": "code",
   "execution_count": 37,
   "metadata": {},
   "outputs": [
    {
     "name": "stdout",
     "output_type": "stream",
     "text": [
      "(430061, 22) (107516, 22) (430061,) (107516,)\n"
     ]
    }
   ],
   "source": [
    "print(X_train.shape, X_test.shape, y_train.shape, y_test.shape)"
   ]
  },
  {
   "cell_type": "code",
   "execution_count": 38,
   "metadata": {},
   "outputs": [],
   "source": [
    "train_mean = X_train.mean()\n",
    "train_std = X_train.std()"
   ]
  },
  {
   "cell_type": "code",
   "execution_count": 39,
   "metadata": {},
   "outputs": [],
   "source": [
    "X_train = (X_train - train_mean) / train_std"
   ]
  },
  {
   "cell_type": "code",
   "execution_count": 40,
   "metadata": {},
   "outputs": [
    {
     "data": {
      "text/html": [
       "<div>\n",
       "<style scoped>\n",
       "    .dataframe tbody tr th:only-of-type {\n",
       "        vertical-align: middle;\n",
       "    }\n",
       "\n",
       "    .dataframe tbody tr th {\n",
       "        vertical-align: top;\n",
       "    }\n",
       "\n",
       "    .dataframe thead th {\n",
       "        text-align: right;\n",
       "    }\n",
       "</style>\n",
       "<table border=\"1\" class=\"dataframe\">\n",
       "  <thead>\n",
       "    <tr style=\"text-align: right;\">\n",
       "      <th></th>\n",
       "      <th>Occupation</th>\n",
       "      <th>Marital_Status</th>\n",
       "      <th>Product_Category_1</th>\n",
       "      <th>Product_Category_2</th>\n",
       "      <th>Product_Category_3</th>\n",
       "      <th>Gender_F</th>\n",
       "      <th>Gender_M</th>\n",
       "      <th>Age_0-17</th>\n",
       "      <th>Age_18-25</th>\n",
       "      <th>Age_26-35</th>\n",
       "      <th>...</th>\n",
       "      <th>Age_51-55</th>\n",
       "      <th>Age_55+</th>\n",
       "      <th>City_Category_A</th>\n",
       "      <th>City_Category_B</th>\n",
       "      <th>City_Category_C</th>\n",
       "      <th>Stay_In_Current_City_Years_0</th>\n",
       "      <th>Stay_In_Current_City_Years_1</th>\n",
       "      <th>Stay_In_Current_City_Years_2</th>\n",
       "      <th>Stay_In_Current_City_Years_3</th>\n",
       "      <th>Stay_In_Current_City_Years_4+</th>\n",
       "    </tr>\n",
       "  </thead>\n",
       "  <tbody>\n",
       "    <tr>\n",
       "      <th>count</th>\n",
       "      <td>4.300610e+05</td>\n",
       "      <td>4.300610e+05</td>\n",
       "      <td>4.300610e+05</td>\n",
       "      <td>4.300610e+05</td>\n",
       "      <td>4.300610e+05</td>\n",
       "      <td>4.300610e+05</td>\n",
       "      <td>4.300610e+05</td>\n",
       "      <td>4.300610e+05</td>\n",
       "      <td>4.300610e+05</td>\n",
       "      <td>4.300610e+05</td>\n",
       "      <td>...</td>\n",
       "      <td>4.300610e+05</td>\n",
       "      <td>4.300610e+05</td>\n",
       "      <td>4.300610e+05</td>\n",
       "      <td>4.300610e+05</td>\n",
       "      <td>4.300610e+05</td>\n",
       "      <td>4.300610e+05</td>\n",
       "      <td>4.300610e+05</td>\n",
       "      <td>4.300610e+05</td>\n",
       "      <td>4.300610e+05</td>\n",
       "      <td>4.300610e+05</td>\n",
       "    </tr>\n",
       "    <tr>\n",
       "      <th>mean</th>\n",
       "      <td>-1.303425e-15</td>\n",
       "      <td>1.139689e-14</td>\n",
       "      <td>-2.232773e-16</td>\n",
       "      <td>-3.283098e-13</td>\n",
       "      <td>8.695299e-12</td>\n",
       "      <td>1.978527e-15</td>\n",
       "      <td>-1.978527e-15</td>\n",
       "      <td>4.337284e-15</td>\n",
       "      <td>-1.367326e-15</td>\n",
       "      <td>-1.911947e-15</td>\n",
       "      <td>...</td>\n",
       "      <td>-4.183229e-15</td>\n",
       "      <td>4.399976e-15</td>\n",
       "      <td>1.504670e-15</td>\n",
       "      <td>-3.313282e-16</td>\n",
       "      <td>3.249014e-15</td>\n",
       "      <td>-1.212188e-15</td>\n",
       "      <td>2.134079e-15</td>\n",
       "      <td>-2.937911e-15</td>\n",
       "      <td>6.036452e-15</td>\n",
       "      <td>-1.055128e-15</td>\n",
       "    </tr>\n",
       "    <tr>\n",
       "      <th>std</th>\n",
       "      <td>1.000000e+00</td>\n",
       "      <td>1.000000e+00</td>\n",
       "      <td>1.000000e+00</td>\n",
       "      <td>1.000000e+00</td>\n",
       "      <td>1.000000e+00</td>\n",
       "      <td>1.000000e+00</td>\n",
       "      <td>1.000000e+00</td>\n",
       "      <td>1.000000e+00</td>\n",
       "      <td>1.000000e+00</td>\n",
       "      <td>1.000000e+00</td>\n",
       "      <td>...</td>\n",
       "      <td>1.000000e+00</td>\n",
       "      <td>1.000000e+00</td>\n",
       "      <td>1.000000e+00</td>\n",
       "      <td>1.000000e+00</td>\n",
       "      <td>1.000000e+00</td>\n",
       "      <td>1.000000e+00</td>\n",
       "      <td>1.000000e+00</td>\n",
       "      <td>1.000000e+00</td>\n",
       "      <td>1.000000e+00</td>\n",
       "      <td>1.000000e+00</td>\n",
       "    </tr>\n",
       "    <tr>\n",
       "      <th>min</th>\n",
       "      <td>-1.239073e+00</td>\n",
       "      <td>-8.305494e-01</td>\n",
       "      <td>-1.146040e+00</td>\n",
       "      <td>-1.859014e+00</td>\n",
       "      <td>-4.242630e+00</td>\n",
       "      <td>-5.717209e-01</td>\n",
       "      <td>-1.749101e+00</td>\n",
       "      <td>-1.677299e-01</td>\n",
       "      <td>-4.714522e-01</td>\n",
       "      <td>-8.149247e-01</td>\n",
       "      <td>...</td>\n",
       "      <td>-2.737076e-01</td>\n",
       "      <td>-2.016176e-01</td>\n",
       "      <td>-6.069022e-01</td>\n",
       "      <td>-8.528494e-01</td>\n",
       "      <td>-6.698680e-01</td>\n",
       "      <td>-3.952042e-01</td>\n",
       "      <td>-7.368110e-01</td>\n",
       "      <td>-4.766612e-01</td>\n",
       "      <td>-4.589415e-01</td>\n",
       "      <td>-4.265257e-01</td>\n",
       "    </tr>\n",
       "    <tr>\n",
       "      <th>25%</th>\n",
       "      <td>-9.323963e-01</td>\n",
       "      <td>-8.305494e-01</td>\n",
       "      <td>-1.146040e+00</td>\n",
       "      <td>-4.380043e-01</td>\n",
       "      <td>-1.084959e-03</td>\n",
       "      <td>-5.717209e-01</td>\n",
       "      <td>5.717209e-01</td>\n",
       "      <td>-1.677299e-01</td>\n",
       "      <td>-4.714522e-01</td>\n",
       "      <td>-8.149247e-01</td>\n",
       "      <td>...</td>\n",
       "      <td>-2.737076e-01</td>\n",
       "      <td>-2.016176e-01</td>\n",
       "      <td>-6.069022e-01</td>\n",
       "      <td>-8.528494e-01</td>\n",
       "      <td>-6.698680e-01</td>\n",
       "      <td>-3.952042e-01</td>\n",
       "      <td>-7.368110e-01</td>\n",
       "      <td>-4.766612e-01</td>\n",
       "      <td>-4.589415e-01</td>\n",
       "      <td>-4.265257e-01</td>\n",
       "    </tr>\n",
       "    <tr>\n",
       "      <th>50%</th>\n",
       "      <td>-1.657057e-01</td>\n",
       "      <td>-8.305494e-01</td>\n",
       "      <td>-7.924827e-02</td>\n",
       "      <td>-1.720344e-03</td>\n",
       "      <td>-1.084959e-03</td>\n",
       "      <td>-5.717209e-01</td>\n",
       "      <td>5.717209e-01</td>\n",
       "      <td>-1.677299e-01</td>\n",
       "      <td>-4.714522e-01</td>\n",
       "      <td>-8.149247e-01</td>\n",
       "      <td>...</td>\n",
       "      <td>-2.737076e-01</td>\n",
       "      <td>-2.016176e-01</td>\n",
       "      <td>-6.069022e-01</td>\n",
       "      <td>-8.528494e-01</td>\n",
       "      <td>-6.698680e-01</td>\n",
       "      <td>-3.952042e-01</td>\n",
       "      <td>-7.368110e-01</td>\n",
       "      <td>-4.766612e-01</td>\n",
       "      <td>-4.589415e-01</td>\n",
       "      <td>-4.265257e-01</td>\n",
       "    </tr>\n",
       "    <tr>\n",
       "      <th>75%</th>\n",
       "      <td>9.076610e-01</td>\n",
       "      <td>1.204020e+00</td>\n",
       "      <td>7.208454e-01</td>\n",
       "      <td>9.830049e-01</td>\n",
       "      <td>-1.084959e-03</td>\n",
       "      <td>-5.717209e-01</td>\n",
       "      <td>5.717209e-01</td>\n",
       "      <td>-1.677299e-01</td>\n",
       "      <td>-4.714522e-01</td>\n",
       "      <td>1.227104e+00</td>\n",
       "      <td>...</td>\n",
       "      <td>-2.737076e-01</td>\n",
       "      <td>-2.016176e-01</td>\n",
       "      <td>1.647708e+00</td>\n",
       "      <td>1.172537e+00</td>\n",
       "      <td>1.492828e+00</td>\n",
       "      <td>-3.952042e-01</td>\n",
       "      <td>1.357197e+00</td>\n",
       "      <td>-4.766612e-01</td>\n",
       "      <td>-4.589415e-01</td>\n",
       "      <td>-4.265257e-01</td>\n",
       "    </tr>\n",
       "    <tr>\n",
       "      <th>max</th>\n",
       "      <td>1.827690e+00</td>\n",
       "      <td>1.204020e+00</td>\n",
       "      <td>3.387824e+00</td>\n",
       "      <td>1.930344e+00</td>\n",
       "      <td>2.336918e+00</td>\n",
       "      <td>1.749101e+00</td>\n",
       "      <td>5.717209e-01</td>\n",
       "      <td>5.961952e+00</td>\n",
       "      <td>2.121101e+00</td>\n",
       "      <td>1.227104e+00</td>\n",
       "      <td>...</td>\n",
       "      <td>3.653526e+00</td>\n",
       "      <td>4.959873e+00</td>\n",
       "      <td>1.647708e+00</td>\n",
       "      <td>1.172537e+00</td>\n",
       "      <td>1.492828e+00</td>\n",
       "      <td>2.530331e+00</td>\n",
       "      <td>1.357197e+00</td>\n",
       "      <td>2.097921e+00</td>\n",
       "      <td>2.178922e+00</td>\n",
       "      <td>2.344519e+00</td>\n",
       "    </tr>\n",
       "  </tbody>\n",
       "</table>\n",
       "<p>8 rows × 22 columns</p>\n",
       "</div>"
      ],
      "text/plain": [
       "         Occupation  Marital_Status  Product_Category_1  Product_Category_2  \\\n",
       "count  4.300610e+05    4.300610e+05        4.300610e+05        4.300610e+05   \n",
       "mean  -1.303425e-15    1.139689e-14       -2.232773e-16       -3.283098e-13   \n",
       "std    1.000000e+00    1.000000e+00        1.000000e+00        1.000000e+00   \n",
       "min   -1.239073e+00   -8.305494e-01       -1.146040e+00       -1.859014e+00   \n",
       "25%   -9.323963e-01   -8.305494e-01       -1.146040e+00       -4.380043e-01   \n",
       "50%   -1.657057e-01   -8.305494e-01       -7.924827e-02       -1.720344e-03   \n",
       "75%    9.076610e-01    1.204020e+00        7.208454e-01        9.830049e-01   \n",
       "max    1.827690e+00    1.204020e+00        3.387824e+00        1.930344e+00   \n",
       "\n",
       "       Product_Category_3      Gender_F      Gender_M      Age_0-17  \\\n",
       "count        4.300610e+05  4.300610e+05  4.300610e+05  4.300610e+05   \n",
       "mean         8.695299e-12  1.978527e-15 -1.978527e-15  4.337284e-15   \n",
       "std          1.000000e+00  1.000000e+00  1.000000e+00  1.000000e+00   \n",
       "min         -4.242630e+00 -5.717209e-01 -1.749101e+00 -1.677299e-01   \n",
       "25%         -1.084959e-03 -5.717209e-01  5.717209e-01 -1.677299e-01   \n",
       "50%         -1.084959e-03 -5.717209e-01  5.717209e-01 -1.677299e-01   \n",
       "75%         -1.084959e-03 -5.717209e-01  5.717209e-01 -1.677299e-01   \n",
       "max          2.336918e+00  1.749101e+00  5.717209e-01  5.961952e+00   \n",
       "\n",
       "          Age_18-25     Age_26-35              ...                \\\n",
       "count  4.300610e+05  4.300610e+05              ...                 \n",
       "mean  -1.367326e-15 -1.911947e-15              ...                 \n",
       "std    1.000000e+00  1.000000e+00              ...                 \n",
       "min   -4.714522e-01 -8.149247e-01              ...                 \n",
       "25%   -4.714522e-01 -8.149247e-01              ...                 \n",
       "50%   -4.714522e-01 -8.149247e-01              ...                 \n",
       "75%   -4.714522e-01  1.227104e+00              ...                 \n",
       "max    2.121101e+00  1.227104e+00              ...                 \n",
       "\n",
       "          Age_51-55       Age_55+  City_Category_A  City_Category_B  \\\n",
       "count  4.300610e+05  4.300610e+05     4.300610e+05     4.300610e+05   \n",
       "mean  -4.183229e-15  4.399976e-15     1.504670e-15    -3.313282e-16   \n",
       "std    1.000000e+00  1.000000e+00     1.000000e+00     1.000000e+00   \n",
       "min   -2.737076e-01 -2.016176e-01    -6.069022e-01    -8.528494e-01   \n",
       "25%   -2.737076e-01 -2.016176e-01    -6.069022e-01    -8.528494e-01   \n",
       "50%   -2.737076e-01 -2.016176e-01    -6.069022e-01    -8.528494e-01   \n",
       "75%   -2.737076e-01 -2.016176e-01     1.647708e+00     1.172537e+00   \n",
       "max    3.653526e+00  4.959873e+00     1.647708e+00     1.172537e+00   \n",
       "\n",
       "       City_Category_C  Stay_In_Current_City_Years_0  \\\n",
       "count     4.300610e+05                  4.300610e+05   \n",
       "mean      3.249014e-15                 -1.212188e-15   \n",
       "std       1.000000e+00                  1.000000e+00   \n",
       "min      -6.698680e-01                 -3.952042e-01   \n",
       "25%      -6.698680e-01                 -3.952042e-01   \n",
       "50%      -6.698680e-01                 -3.952042e-01   \n",
       "75%       1.492828e+00                 -3.952042e-01   \n",
       "max       1.492828e+00                  2.530331e+00   \n",
       "\n",
       "       Stay_In_Current_City_Years_1  Stay_In_Current_City_Years_2  \\\n",
       "count                  4.300610e+05                  4.300610e+05   \n",
       "mean                   2.134079e-15                 -2.937911e-15   \n",
       "std                    1.000000e+00                  1.000000e+00   \n",
       "min                   -7.368110e-01                 -4.766612e-01   \n",
       "25%                   -7.368110e-01                 -4.766612e-01   \n",
       "50%                   -7.368110e-01                 -4.766612e-01   \n",
       "75%                    1.357197e+00                 -4.766612e-01   \n",
       "max                    1.357197e+00                  2.097921e+00   \n",
       "\n",
       "       Stay_In_Current_City_Years_3  Stay_In_Current_City_Years_4+  \n",
       "count                  4.300610e+05                   4.300610e+05  \n",
       "mean                   6.036452e-15                  -1.055128e-15  \n",
       "std                    1.000000e+00                   1.000000e+00  \n",
       "min                   -4.589415e-01                  -4.265257e-01  \n",
       "25%                   -4.589415e-01                  -4.265257e-01  \n",
       "50%                   -4.589415e-01                  -4.265257e-01  \n",
       "75%                   -4.589415e-01                  -4.265257e-01  \n",
       "max                    2.178922e+00                   2.344519e+00  \n",
       "\n",
       "[8 rows x 22 columns]"
      ]
     },
     "execution_count": 40,
     "metadata": {},
     "output_type": "execute_result"
    }
   ],
   "source": [
    "X_train.describe()"
   ]
  },
  {
   "cell_type": "code",
   "execution_count": 41,
   "metadata": {},
   "outputs": [],
   "source": [
    "## Note: We use train_mean and train_std_dev to standardize test data set\n",
    "X_test = (X_test - train_mean) / train_std"
   ]
  },
  {
   "cell_type": "code",
   "execution_count": 42,
   "metadata": {},
   "outputs": [
    {
     "data": {
      "text/html": [
       "<div>\n",
       "<style scoped>\n",
       "    .dataframe tbody tr th:only-of-type {\n",
       "        vertical-align: middle;\n",
       "    }\n",
       "\n",
       "    .dataframe tbody tr th {\n",
       "        vertical-align: top;\n",
       "    }\n",
       "\n",
       "    .dataframe thead th {\n",
       "        text-align: right;\n",
       "    }\n",
       "</style>\n",
       "<table border=\"1\" class=\"dataframe\">\n",
       "  <thead>\n",
       "    <tr style=\"text-align: right;\">\n",
       "      <th></th>\n",
       "      <th>Occupation</th>\n",
       "      <th>Marital_Status</th>\n",
       "      <th>Product_Category_1</th>\n",
       "      <th>Product_Category_2</th>\n",
       "      <th>Product_Category_3</th>\n",
       "      <th>Gender_F</th>\n",
       "      <th>Gender_M</th>\n",
       "      <th>Age_0-17</th>\n",
       "      <th>Age_18-25</th>\n",
       "      <th>Age_26-35</th>\n",
       "      <th>...</th>\n",
       "      <th>Age_51-55</th>\n",
       "      <th>Age_55+</th>\n",
       "      <th>City_Category_A</th>\n",
       "      <th>City_Category_B</th>\n",
       "      <th>City_Category_C</th>\n",
       "      <th>Stay_In_Current_City_Years_0</th>\n",
       "      <th>Stay_In_Current_City_Years_1</th>\n",
       "      <th>Stay_In_Current_City_Years_2</th>\n",
       "      <th>Stay_In_Current_City_Years_3</th>\n",
       "      <th>Stay_In_Current_City_Years_4+</th>\n",
       "    </tr>\n",
       "  </thead>\n",
       "  <tbody>\n",
       "    <tr>\n",
       "      <th>count</th>\n",
       "      <td>107516.000000</td>\n",
       "      <td>107516.000000</td>\n",
       "      <td>107516.000000</td>\n",
       "      <td>107516.000000</td>\n",
       "      <td>107516.000000</td>\n",
       "      <td>107516.000000</td>\n",
       "      <td>107516.000000</td>\n",
       "      <td>107516.000000</td>\n",
       "      <td>107516.000000</td>\n",
       "      <td>107516.000000</td>\n",
       "      <td>...</td>\n",
       "      <td>107516.000000</td>\n",
       "      <td>107516.000000</td>\n",
       "      <td>107516.000000</td>\n",
       "      <td>107516.000000</td>\n",
       "      <td>107516.000000</td>\n",
       "      <td>107516.000000</td>\n",
       "      <td>107516.000000</td>\n",
       "      <td>107516.000000</td>\n",
       "      <td>107516.000000</td>\n",
       "      <td>107516.000000</td>\n",
       "    </tr>\n",
       "    <tr>\n",
       "      <th>mean</th>\n",
       "      <td>0.001575</td>\n",
       "      <td>0.005884</td>\n",
       "      <td>-0.002133</td>\n",
       "      <td>-0.008602</td>\n",
       "      <td>-0.005425</td>\n",
       "      <td>-0.005007</td>\n",
       "      <td>0.005007</td>\n",
       "      <td>-0.000172</td>\n",
       "      <td>-0.002981</td>\n",
       "      <td>0.002962</td>\n",
       "      <td>...</td>\n",
       "      <td>0.005541</td>\n",
       "      <td>-0.004598</td>\n",
       "      <td>-0.001435</td>\n",
       "      <td>0.002452</td>\n",
       "      <td>-0.001242</td>\n",
       "      <td>0.002854</td>\n",
       "      <td>0.000715</td>\n",
       "      <td>-0.001644</td>\n",
       "      <td>-0.005321</td>\n",
       "      <td>0.003708</td>\n",
       "    </tr>\n",
       "    <tr>\n",
       "      <th>std</th>\n",
       "      <td>1.001983</td>\n",
       "      <td>1.001084</td>\n",
       "      <td>1.001522</td>\n",
       "      <td>1.001775</td>\n",
       "      <td>1.000313</td>\n",
       "      <td>0.997039</td>\n",
       "      <td>0.997039</td>\n",
       "      <td>0.999504</td>\n",
       "      <td>0.997537</td>\n",
       "      <td>1.000609</td>\n",
       "      <td>...</td>\n",
       "      <td>1.009309</td>\n",
       "      <td>0.988993</td>\n",
       "      <td>0.999255</td>\n",
       "      <td>1.000392</td>\n",
       "      <td>0.999492</td>\n",
       "      <td>1.003042</td>\n",
       "      <td>1.000225</td>\n",
       "      <td>0.998669</td>\n",
       "      <td>0.995403</td>\n",
       "      <td>1.003547</td>\n",
       "    </tr>\n",
       "    <tr>\n",
       "      <th>min</th>\n",
       "      <td>-1.239073</td>\n",
       "      <td>-0.830549</td>\n",
       "      <td>-1.146040</td>\n",
       "      <td>-1.859014</td>\n",
       "      <td>-4.242630</td>\n",
       "      <td>-0.571721</td>\n",
       "      <td>-1.749101</td>\n",
       "      <td>-0.167730</td>\n",
       "      <td>-0.471452</td>\n",
       "      <td>-0.814925</td>\n",
       "      <td>...</td>\n",
       "      <td>-0.273708</td>\n",
       "      <td>-0.201618</td>\n",
       "      <td>-0.606902</td>\n",
       "      <td>-0.852849</td>\n",
       "      <td>-0.669868</td>\n",
       "      <td>-0.395204</td>\n",
       "      <td>-0.736811</td>\n",
       "      <td>-0.476661</td>\n",
       "      <td>-0.458942</td>\n",
       "      <td>-0.426526</td>\n",
       "    </tr>\n",
       "    <tr>\n",
       "      <th>25%</th>\n",
       "      <td>-0.932396</td>\n",
       "      <td>-0.830549</td>\n",
       "      <td>-1.146040</td>\n",
       "      <td>-0.438004</td>\n",
       "      <td>-0.001085</td>\n",
       "      <td>-0.571721</td>\n",
       "      <td>0.571721</td>\n",
       "      <td>-0.167730</td>\n",
       "      <td>-0.471452</td>\n",
       "      <td>-0.814925</td>\n",
       "      <td>...</td>\n",
       "      <td>-0.273708</td>\n",
       "      <td>-0.201618</td>\n",
       "      <td>-0.606902</td>\n",
       "      <td>-0.852849</td>\n",
       "      <td>-0.669868</td>\n",
       "      <td>-0.395204</td>\n",
       "      <td>-0.736811</td>\n",
       "      <td>-0.476661</td>\n",
       "      <td>-0.458942</td>\n",
       "      <td>-0.426526</td>\n",
       "    </tr>\n",
       "    <tr>\n",
       "      <th>50%</th>\n",
       "      <td>-0.165706</td>\n",
       "      <td>-0.830549</td>\n",
       "      <td>-0.079248</td>\n",
       "      <td>-0.001720</td>\n",
       "      <td>-0.001085</td>\n",
       "      <td>-0.571721</td>\n",
       "      <td>0.571721</td>\n",
       "      <td>-0.167730</td>\n",
       "      <td>-0.471452</td>\n",
       "      <td>-0.814925</td>\n",
       "      <td>...</td>\n",
       "      <td>-0.273708</td>\n",
       "      <td>-0.201618</td>\n",
       "      <td>-0.606902</td>\n",
       "      <td>-0.852849</td>\n",
       "      <td>-0.669868</td>\n",
       "      <td>-0.395204</td>\n",
       "      <td>-0.736811</td>\n",
       "      <td>-0.476661</td>\n",
       "      <td>-0.458942</td>\n",
       "      <td>-0.426526</td>\n",
       "    </tr>\n",
       "    <tr>\n",
       "      <th>75%</th>\n",
       "      <td>0.907661</td>\n",
       "      <td>1.204020</td>\n",
       "      <td>0.720845</td>\n",
       "      <td>0.983005</td>\n",
       "      <td>-0.001085</td>\n",
       "      <td>-0.571721</td>\n",
       "      <td>0.571721</td>\n",
       "      <td>-0.167730</td>\n",
       "      <td>-0.471452</td>\n",
       "      <td>1.227104</td>\n",
       "      <td>...</td>\n",
       "      <td>-0.273708</td>\n",
       "      <td>-0.201618</td>\n",
       "      <td>1.647708</td>\n",
       "      <td>1.172537</td>\n",
       "      <td>1.492828</td>\n",
       "      <td>-0.395204</td>\n",
       "      <td>1.357197</td>\n",
       "      <td>-0.476661</td>\n",
       "      <td>-0.458942</td>\n",
       "      <td>-0.426526</td>\n",
       "    </tr>\n",
       "    <tr>\n",
       "      <th>max</th>\n",
       "      <td>1.827690</td>\n",
       "      <td>1.204020</td>\n",
       "      <td>3.387824</td>\n",
       "      <td>1.930344</td>\n",
       "      <td>2.336918</td>\n",
       "      <td>1.749101</td>\n",
       "      <td>0.571721</td>\n",
       "      <td>5.961952</td>\n",
       "      <td>2.121101</td>\n",
       "      <td>1.227104</td>\n",
       "      <td>...</td>\n",
       "      <td>3.653526</td>\n",
       "      <td>4.959873</td>\n",
       "      <td>1.647708</td>\n",
       "      <td>1.172537</td>\n",
       "      <td>1.492828</td>\n",
       "      <td>2.530331</td>\n",
       "      <td>1.357197</td>\n",
       "      <td>2.097921</td>\n",
       "      <td>2.178922</td>\n",
       "      <td>2.344519</td>\n",
       "    </tr>\n",
       "  </tbody>\n",
       "</table>\n",
       "<p>8 rows × 22 columns</p>\n",
       "</div>"
      ],
      "text/plain": [
       "          Occupation  Marital_Status  Product_Category_1  Product_Category_2  \\\n",
       "count  107516.000000   107516.000000       107516.000000       107516.000000   \n",
       "mean        0.001575        0.005884           -0.002133           -0.008602   \n",
       "std         1.001983        1.001084            1.001522            1.001775   \n",
       "min        -1.239073       -0.830549           -1.146040           -1.859014   \n",
       "25%        -0.932396       -0.830549           -1.146040           -0.438004   \n",
       "50%        -0.165706       -0.830549           -0.079248           -0.001720   \n",
       "75%         0.907661        1.204020            0.720845            0.983005   \n",
       "max         1.827690        1.204020            3.387824            1.930344   \n",
       "\n",
       "       Product_Category_3       Gender_F       Gender_M       Age_0-17  \\\n",
       "count       107516.000000  107516.000000  107516.000000  107516.000000   \n",
       "mean            -0.005425      -0.005007       0.005007      -0.000172   \n",
       "std              1.000313       0.997039       0.997039       0.999504   \n",
       "min             -4.242630      -0.571721      -1.749101      -0.167730   \n",
       "25%             -0.001085      -0.571721       0.571721      -0.167730   \n",
       "50%             -0.001085      -0.571721       0.571721      -0.167730   \n",
       "75%             -0.001085      -0.571721       0.571721      -0.167730   \n",
       "max              2.336918       1.749101       0.571721       5.961952   \n",
       "\n",
       "           Age_18-25      Age_26-35              ...                \\\n",
       "count  107516.000000  107516.000000              ...                 \n",
       "mean       -0.002981       0.002962              ...                 \n",
       "std         0.997537       1.000609              ...                 \n",
       "min        -0.471452      -0.814925              ...                 \n",
       "25%        -0.471452      -0.814925              ...                 \n",
       "50%        -0.471452      -0.814925              ...                 \n",
       "75%        -0.471452       1.227104              ...                 \n",
       "max         2.121101       1.227104              ...                 \n",
       "\n",
       "           Age_51-55        Age_55+  City_Category_A  City_Category_B  \\\n",
       "count  107516.000000  107516.000000    107516.000000    107516.000000   \n",
       "mean        0.005541      -0.004598        -0.001435         0.002452   \n",
       "std         1.009309       0.988993         0.999255         1.000392   \n",
       "min        -0.273708      -0.201618        -0.606902        -0.852849   \n",
       "25%        -0.273708      -0.201618        -0.606902        -0.852849   \n",
       "50%        -0.273708      -0.201618        -0.606902        -0.852849   \n",
       "75%        -0.273708      -0.201618         1.647708         1.172537   \n",
       "max         3.653526       4.959873         1.647708         1.172537   \n",
       "\n",
       "       City_Category_C  Stay_In_Current_City_Years_0  \\\n",
       "count    107516.000000                 107516.000000   \n",
       "mean         -0.001242                      0.002854   \n",
       "std           0.999492                      1.003042   \n",
       "min          -0.669868                     -0.395204   \n",
       "25%          -0.669868                     -0.395204   \n",
       "50%          -0.669868                     -0.395204   \n",
       "75%           1.492828                     -0.395204   \n",
       "max           1.492828                      2.530331   \n",
       "\n",
       "       Stay_In_Current_City_Years_1  Stay_In_Current_City_Years_2  \\\n",
       "count                 107516.000000                 107516.000000   \n",
       "mean                       0.000715                     -0.001644   \n",
       "std                        1.000225                      0.998669   \n",
       "min                       -0.736811                     -0.476661   \n",
       "25%                       -0.736811                     -0.476661   \n",
       "50%                       -0.736811                     -0.476661   \n",
       "75%                        1.357197                     -0.476661   \n",
       "max                        1.357197                      2.097921   \n",
       "\n",
       "       Stay_In_Current_City_Years_3  Stay_In_Current_City_Years_4+  \n",
       "count                 107516.000000                  107516.000000  \n",
       "mean                      -0.005321                       0.003708  \n",
       "std                        0.995403                       1.003547  \n",
       "min                       -0.458942                      -0.426526  \n",
       "25%                       -0.458942                      -0.426526  \n",
       "50%                       -0.458942                      -0.426526  \n",
       "75%                       -0.458942                      -0.426526  \n",
       "max                        2.178922                       2.344519  \n",
       "\n",
       "[8 rows x 22 columns]"
      ]
     },
     "execution_count": 42,
     "metadata": {},
     "output_type": "execute_result"
    }
   ],
   "source": [
    "## Check for mean and std dev. - not exactly 0 and 1\n",
    "X_test.describe()"
   ]
  },
  {
   "cell_type": "markdown",
   "metadata": {},
   "source": [
    "# WE ARE APPLYING DIFFERENT AND LET'S LOOK FOR BEST MODEL."
   ]
  },
  {
   "cell_type": "markdown",
   "metadata": {},
   "source": [
    "BUT BEFORE APPYING MODELS, LET'S SEE THE FEATURES WE ARE USING WHILE COMPARING MODELS\n",
    "\n",
    "RMSE: The RMSD represents the square root of the second sample moment of the differences between predicted values and observed values or the quadratic mean of these differences. \n",
    "\n",
    "MAE: (MAE) is a quantity used to measure how close forecasts or predictions are to the eventual outcomes. The mean absolute error is given by\n",
    "\n",
    "{\\mathrm {MAE}}={\\frac {1}{n}}\\sum _{{i=1}}^{n}\\left|f_{i}-y_{i}\\right|={\\frac {1}{n}}\\sum _{{i=1}}^{n}\\left|e_{i}\\right|.\n",
    "\n",
    "\n",
    "R2 : \"R squared\", is a number that indicates the proportion of the variance in the dependent variable that is predictable from the independent variable"
   ]
  },
  {
   "cell_type": "markdown",
   "metadata": {},
   "source": [
    "#  - Baseline Model"
   ]
  },
  {
   "cell_type": "code",
   "execution_count": 43,
   "metadata": {},
   "outputs": [],
   "source": [
    "#Predicting Train results\n",
    "y_train_pred = np.ones(y_train.shape[0])*y_train.mean()"
   ]
  },
  {
   "cell_type": "code",
   "execution_count": 44,
   "metadata": {},
   "outputs": [],
   "source": [
    "## Predicting Test results\n",
    "y_pred = np.ones(y_test.shape[0])*y_train.mean()\n",
    "from sklearn.metrics import r2_score"
   ]
  },
  {
   "cell_type": "code",
   "execution_count": 45,
   "metadata": {},
   "outputs": [
    {
     "name": "stdout",
     "output_type": "stream",
     "text": [
      "Train Results for Baseline Model:\n",
      "*******************************\n",
      "Root mean squared error:  4981.515912062438\n",
      "R-squared:  0.0\n",
      "Mean Absolute Error:  4047.5660267444778\n"
     ]
    }
   ],
   "source": [
    "print(\"Train Results for Baseline Model:\")\n",
    "print(\"*******************************\")\n",
    "print(\"Root mean squared error: \", sqrt(mse(y_train.values, y_train_pred)))\n",
    "print(\"R-squared: \", r2_score(y_train.values, y_train_pred))\n",
    "print(\"Mean Absolute Error: \", mae(y_train.values, y_train_pred))"
   ]
  },
  {
   "cell_type": "code",
   "execution_count": 46,
   "metadata": {},
   "outputs": [
    {
     "name": "stdout",
     "output_type": "stream",
     "text": [
      "Results for Baseline Model:\n",
      "*******************************\n",
      "Root mean squared error:  4979.023398336429\n",
      "R-squared:  -6.53743990053357e-08\n",
      "Mean Absolute Error:  4047.0879520090007\n"
     ]
    }
   ],
   "source": [
    "print(\"Results for Baseline Model:\")\n",
    "print(\"*******************************\")\n",
    "print(\"Root mean squared error: \", sqrt(mse(y_test, y_pred)))\n",
    "print(\"R-squared: \", r2_score(y_test, y_pred))\n",
    "print(\"Mean Absolute Error: \", mae(y_test, y_pred))"
   ]
  },
  {
   "cell_type": "markdown",
   "metadata": {},
   "source": [
    "# - Ridge Regression"
   ]
  },
  {
   "cell_type": "code",
   "execution_count": 47,
   "metadata": {},
   "outputs": [
    {
     "data": {
      "text/plain": [
       "GridSearchCV(cv=10, error_score='raise-deprecating',\n",
       "       estimator=Ridge(alpha=1.0, copy_X=True, fit_intercept=True, max_iter=None,\n",
       "   normalize=False, random_state=None, solver='auto', tol=0.001),\n",
       "       fit_params=None, iid='warn', n_jobs=-1,\n",
       "       param_grid={'alpha': [0.0001, 0.001, 0.01, 0.1, 1, 10, 100, 1000, 10000, 100000]},\n",
       "       pre_dispatch='2*n_jobs', refit=True, return_train_score='warn',\n",
       "       scoring='neg_mean_absolute_error', verbose=0)"
      ]
     },
     "execution_count": 47,
     "metadata": {},
     "output_type": "execute_result"
    }
   ],
   "source": [
    "tuned_params = {'alpha': [0.0001, 0.001, 0.01, 0.1, 1, 10, 100, 1000, 10000, 100000]}\n",
    "model = GridSearchCV(Ridge(), tuned_params, scoring = 'neg_mean_absolute_error', cv=10, n_jobs=-1)\n",
    "model.fit(X_train, y_train)"
   ]
  },
  {
   "cell_type": "code",
   "execution_count": 48,
   "metadata": {},
   "outputs": [
    {
     "data": {
      "text/plain": [
       "GridSearchCV(cv=10, error_score='raise-deprecating',\n",
       "       estimator=Ridge(alpha=1.0, copy_X=True, fit_intercept=True, max_iter=None,\n",
       "   normalize=False, random_state=None, solver='auto', tol=0.001),\n",
       "       fit_params=None, iid='warn', n_jobs=-1,\n",
       "       param_grid={'alpha': [0.0001, 0.001, 0.01, 0.1, 1, 10, 100, 1000, 10000, 100000]},\n",
       "       pre_dispatch='2*n_jobs', refit=True, return_train_score='warn',\n",
       "       scoring='neg_mean_absolute_error', verbose=0)"
      ]
     },
     "execution_count": 48,
     "metadata": {},
     "output_type": "execute_result"
    }
   ],
   "source": [
    "GridSearchCV(cv=10, error_score='raise-deprecating',\n",
    "       estimator=Ridge(alpha=1.0, copy_X=True, fit_intercept=True, max_iter=None,\n",
    "   normalize=False, random_state=None, solver='auto', tol=0.001),\n",
    "       fit_params=None, iid='warn', n_jobs=-1,\n",
    "       param_grid={'alpha': [0.0001, 0.001, 0.01, 0.1, 1, 10, 100, 1000, 10000, 100000]},\n",
    "       pre_dispatch='2*n_jobs', refit=True, return_train_score='warn',\n",
    "       scoring='neg_mean_absolute_error', verbose=0)"
   ]
  },
  {
   "cell_type": "code",
   "execution_count": 49,
   "metadata": {},
   "outputs": [
    {
     "data": {
      "text/plain": [
       "Ridge(alpha=0.0001, copy_X=True, fit_intercept=True, max_iter=None,\n",
       "   normalize=False, random_state=None, solver='auto', tol=0.001)"
      ]
     },
     "execution_count": 49,
     "metadata": {},
     "output_type": "execute_result"
    }
   ],
   "source": [
    "model.best_estimator_"
   ]
  },
  {
   "cell_type": "code",
   "execution_count": 50,
   "metadata": {},
   "outputs": [],
   "source": [
    "## Predict Train results\n",
    "y_train_pred = model.predict(X_train)"
   ]
  },
  {
   "cell_type": "code",
   "execution_count": 51,
   "metadata": {},
   "outputs": [],
   "source": [
    "## Predict Test results\n",
    "y_pred = model.predict(X_test)"
   ]
  },
  {
   "cell_type": "code",
   "execution_count": 52,
   "metadata": {},
   "outputs": [
    {
     "name": "stdout",
     "output_type": "stream",
     "text": [
      "Train Results for Ridge Regression:\n",
      "*******************************\n",
      "Root mean squared error:  4696.671346058861\n",
      "R-squared:  0.11109101014902623\n",
      "Mean Absolute Error:  3613.7658459357613\n"
     ]
    }
   ],
   "source": [
    "print(\"Train Results for Ridge Regression:\")\n",
    "print(\"*******************************\")\n",
    "print(\"Root mean squared error: \", sqrt(mse(y_train.values, y_train_pred)))\n",
    "print(\"R-squared: \", r2_score(y_train.values, y_train_pred))\n",
    "print(\"Mean Absolute Error: \", mae(y_train.values, y_train_pred))"
   ]
  },
  {
   "cell_type": "code",
   "execution_count": 53,
   "metadata": {},
   "outputs": [
    {
     "name": "stdout",
     "output_type": "stream",
     "text": [
      "Test Results for Ridge Regression:\n",
      "*******************************\n",
      "Root mean squared error:  4690.670168800904\n",
      "R-squared:  0.11247317963913495\n",
      "Mean Absolute Error:  3612.102636375789\n"
     ]
    }
   ],
   "source": [
    "print(\"Test Results for Ridge Regression:\")\n",
    "print(\"*******************************\")\n",
    "print(\"Root mean squared error: \", sqrt(mse(y_test, y_pred)))\n",
    "print(\"R-squared: \", r2_score(y_test, y_pred))\n",
    "print(\"Mean Absolute Error: \", mae(y_test, y_pred))"
   ]
  },
  {
   "cell_type": "code",
   "execution_count": 54,
   "metadata": {},
   "outputs": [
    {
     "data": {
      "text/plain": [
       "Ridge(alpha=100, copy_X=True, fit_intercept=True, max_iter=None,\n",
       "   normalize=False, random_state=None, solver='auto', tol=0.001)"
      ]
     },
     "execution_count": 54,
     "metadata": {},
     "output_type": "execute_result"
    }
   ],
   "source": [
    "## Building the model again with the best hyperparameters\n",
    "model = Ridge(alpha=100)\n",
    "model.fit(X_train, y_train)"
   ]
  },
  {
   "cell_type": "code",
   "execution_count": 55,
   "metadata": {},
   "outputs": [
    {
     "name": "stdout",
     "output_type": "stream",
     "text": [
      "The features in order of importance are:\n",
      "--------------------------------------------------\n",
      "Product_Category_1\n",
      "Product_Category_2\n",
      "City_Category_C\n",
      "Product_Category_3\n",
      "City_Category_A\n",
      "Gender_M\n",
      "Gender_F\n",
      "Age_51-55\n",
      "Age_0-17\n",
      "Age_18-25\n",
      "City_Category_B\n",
      "Occupation\n",
      "Age_55+\n",
      "Marital_Status\n",
      "Age_36-45\n",
      "Age_46-50\n",
      "Stay_In_Current_City_Years_0\n",
      "Stay_In_Current_City_Years_2\n",
      "Age_26-35\n",
      "Stay_In_Current_City_Years_4+\n",
      "Stay_In_Current_City_Years_3\n",
      "Stay_In_Current_City_Years_1\n"
     ]
    }
   ],
   "source": [
    "indices = np.argsort(-abs(model.coef_))\n",
    "print(\"The features in order of importance are:\")\n",
    "print(50*'-')\n",
    "for feature in X.columns[indices]:\n",
    "    print(feature)"
   ]
  },
  {
   "cell_type": "markdown",
   "metadata": {},
   "source": [
    "# -Lasso Regression"
   ]
  },
  {
   "cell_type": "code",
   "execution_count": null,
   "metadata": {},
   "outputs": [],
   "source": [
    "tuned_params = {'alpha': [0.0001, 0.001, 0.01, 0.1, 1, 10, 100, 1000, 10000, 100000]}\n",
    "model = GridSearchCV(Lasso(), tuned_params, scoring = 'neg_mean_absolute_error', cv=20, n_jobs=-1)\n",
    "model.fit(X_train, y_train)"
   ]
  },
  {
   "cell_type": "code",
   "execution_count": null,
   "metadata": {},
   "outputs": [],
   "source": [
    "model.best_estimator_"
   ]
  },
  {
   "cell_type": "code",
   "execution_count": null,
   "metadata": {},
   "outputs": [],
   "source": [
    "## Predicting Train results\n",
    "y_train_pred = model.predict(X_train)"
   ]
  },
  {
   "cell_type": "code",
   "execution_count": null,
   "metadata": {},
   "outputs": [],
   "source": [
    "## Predicting Test results\n",
    "y_pred = model.predict(X_test)"
   ]
  },
  {
   "cell_type": "code",
   "execution_count": null,
   "metadata": {},
   "outputs": [],
   "source": [
    "print(\"Train Results for Lasso Regression:\")\n",
    "print(\"*******************************\")\n",
    "print(\"Root mean squared error: \", sqrt(mse(y_train.values, y_train_pred)))\n",
    "print(\"R-squared: \", rs(y_train.values, y_train_pred))\n",
    "print(\"Mean Absolute Error: \", mae(y_train.values, y_train_pred))"
   ]
  },
  {
   "cell_type": "code",
   "execution_count": null,
   "metadata": {},
   "outputs": [],
   "source": [
    "print(\"Test Results for Lasso Regression:\")\n",
    "print(\"*******************************\")\n",
    "print(\"Root mean squared error: \", sqrt(mse(y_test, y_pred)))\n",
    "print(\"R-squared: \", rs(y_test, y_pred))\n",
    "print(\"Mean Absolute Error: \", mae(y_test, y_pred))"
   ]
  },
  {
   "cell_type": "markdown",
   "metadata": {},
   "source": [
    "# Feature Importance"
   ]
  },
  {
   "cell_type": "code",
   "execution_count": null,
   "metadata": {},
   "outputs": [],
   "source": [
    "\n",
    "model = Lasso(alpha=1000)\n",
    "model.fit(X_train, y_train)"
   ]
  },
  {
   "cell_type": "code",
   "execution_count": null,
   "metadata": {},
   "outputs": [],
   "source": [
    "indices = np.argsort(-abs(model.coef_))\n",
    "print(\"The features in order of importance are:\")\n",
    "print(50*'-')\n",
    "for feature in X.columns[indices]:\n",
    "    print(feature)"
   ]
  },
  {
   "cell_type": "markdown",
   "metadata": {},
   "source": [
    "# -Descision Tree Regression"
   ]
  },
  {
   "cell_type": "code",
   "execution_count": null,
   "metadata": {},
   "outputs": [],
   "source": [
    "tuned_params = {'min_samples_split': [2, 3, 4, 5, 7], 'min_samples_leaf': [1, 2, 3, 4, 6], 'max_depth': [2, 3, 4, 5, 6, 7]}\n",
    "model = RandomizedSearchCV(DecisionTreeRegressor(), tuned_params, n_iter=20, scoring = 'neg_mean_absolute_error', cv=10, n_jobs=-1)\n",
    "model.fit(X_train, y_train)"
   ]
  },
  {
   "cell_type": "code",
   "execution_count": null,
   "metadata": {},
   "outputs": [],
   "source": [
    "model.best_estimator_"
   ]
  },
  {
   "cell_type": "code",
   "execution_count": null,
   "metadata": {},
   "outputs": [],
   "source": [
    "## Predicting Train results\n",
    "y_train_pred = model.predict(X_train)"
   ]
  },
  {
   "cell_type": "code",
   "execution_count": null,
   "metadata": {},
   "outputs": [],
   "source": [
    "## Predicting Test results\n",
    "y_pred = model.predict(X_test)"
   ]
  },
  {
   "cell_type": "code",
   "execution_count": null,
   "metadata": {},
   "outputs": [],
   "source": [
    "print(\"Train Results for Decision Tree Regression:\")\n",
    "print(\"*******************************\")\n",
    "print(\"Root mean squared error: \", sqrt(mse(y_train.values, y_train_pred)))\n",
    "print(\"R-squared: \", rs(y_train.values, y_train_pred))\n",
    "print(\"Mean Absolute Error: \", mae(y_train.values, y_train_pred))"
   ]
  },
  {
   "cell_type": "code",
   "execution_count": null,
   "metadata": {},
   "outputs": [],
   "source": [
    "print(\"Test Results for Decision Tree Regression:\")\n",
    "print(\"*******************************\")\n",
    "print(\"Root mean squared error: \", sqrt(mse(y_test, y_pred)))\n",
    "print(\"R-squared: \", rs(y_test, y_pred))\n",
    "print(\"Mean Absolute Error: \", mae(y_test, y_pred))"
   ]
  },
  {
   "cell_type": "markdown",
   "metadata": {},
   "source": [
    "#  -KN Regression"
   ]
  },
  {
   "cell_type": "code",
   "execution_count": null,
   "metadata": {},
   "outputs": [],
   "source": [
    "# creating odd list of K for KNN\n",
    "neighbors = list(range(1,50,2))\n",
    "# empty list that will hold cv sc\n",
    "ores\n",
    "cv_scores = []\n",
    "\n",
    "# performing 10-fold cross validation\n",
    "for k in neighbors:\n",
    "    knn = KNeighborsRegressor(n_neighbors=k)\n",
    "    scores = cross_val_score(knn, X_train, y_train, cv=10, scoring='neg_mean_absolute_error')\n",
    "    cv_scores.append(scores.mean())\n",
    "\n",
    "# changing to misclassification error\n",
    "MSE = [1 - x for x in cv_scores]\n",
    "\n",
    "# determining best k\n",
    "optimal_k = neighbors[MSE.index(min(MSE))]\n",
    "print('\\nThe optimal number of neighbors is %d.' % optimal_k)"
   ]
  },
  {
   "cell_type": "code",
   "execution_count": null,
   "metadata": {},
   "outputs": [],
   "source": [
    "model = KNeighborsRegressor(n_neighbors = optimal_k)\n",
    "model.fit(X_train, y_train)"
   ]
  },
  {
   "cell_type": "code",
   "execution_count": null,
   "metadata": {},
   "outputs": [],
   "source": [
    "## Predicting Train results\n",
    "y_train_pred = model.predict(X_train)"
   ]
  },
  {
   "cell_type": "code",
   "execution_count": null,
   "metadata": {},
   "outputs": [],
   "source": [
    "## Predicting Test results\n",
    "y_pred = model.predict(X_test)"
   ]
  },
  {
   "cell_type": "code",
   "execution_count": null,
   "metadata": {},
   "outputs": [],
   "source": [
    "print(\"Train Results for KN Regression:\")\n",
    "print(\"*******************************\")\n",
    "print(\"Root mean squared error: \", sqrt(mse(y_train.values, y_train_pred)))\n",
    "print(\"R-squared: \", rs(y_train.values, y_train_pred))\n",
    "print(\"Mean Absolute Error: \", mae(y_train.values, y_train_pred))"
   ]
  },
  {
   "cell_type": "code",
   "execution_count": null,
   "metadata": {},
   "outputs": [],
   "source": [
    "print(\"Test Results for KN Regression:\")\n",
    "print(\"*******************************\")\n",
    "print(\"Root mean squared error: \", sqrt(mse(y_test, y_pred)))\n",
    "print(\"R-squared: \", rs(y_test, y_pred))\n",
    "print(\"Mean Absolute Error: \", mae(y_test, y_pred))"
   ]
  },
  {
   "cell_type": "markdown",
   "metadata": {},
   "source": [
    "# Comparing  all models we applied"
   ]
  },
  {
   "cell_type": "markdown",
   "metadata": {},
   "source": [
    "I would choose Ridge Regression as it gives me best value for R2 in less time and other models that lot of execution time."
   ]
  },
  {
   "cell_type": "code",
   "execution_count": null,
   "metadata": {},
   "outputs": [],
   "source": []
  }
 ],
 "metadata": {
  "kernelspec": {
   "display_name": "Python 3",
   "language": "python",
   "name": "python3"
  },
  "language_info": {
   "codemirror_mode": {
    "name": "ipython",
    "version": 3
   },
   "file_extension": ".py",
   "mimetype": "text/x-python",
   "name": "python",
   "nbconvert_exporter": "python",
   "pygments_lexer": "ipython3",
   "version": "3.7.1"
  }
 },
 "nbformat": 4,
 "nbformat_minor": 2
}
